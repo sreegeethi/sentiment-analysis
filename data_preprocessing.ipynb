{
  "cells": [
    {
      "cell_type": "code",
      "execution_count": null,
      "metadata": {
        "colab": {
          "base_uri": "https://localhost:8080/"
        },
        "id": "VLKKGSPMJTMb",
        "outputId": "49bce7a4-7c30-4be8-9a9c-b66911252f7f"
      },
      "outputs": [
        {
          "output_type": "stream",
          "name": "stdout",
          "text": [
            "Mounted at /content/drive\n"
          ]
        }
      ],
      "source": [
        "from google.colab import drive\n",
        "drive.mount('/content/drive')"
      ]
    },
    {
      "cell_type": "code",
      "execution_count": null,
      "metadata": {
        "colab": {
          "base_uri": "https://localhost:8080/"
        },
        "id": "LwnDOSYDJR5L",
        "outputId": "fb118242-f8d7-4ba0-f86c-02b91e8d8bfb"
      },
      "outputs": [
        {
          "output_type": "stream",
          "name": "stdout",
          "text": [
            "/content/drive/.shortcut-targets-by-id/1EXQhBNQ9WdJTPdtMcBPWxwP7Xkj-o-6O/IT350-PROJECT\n"
          ]
        }
      ],
      "source": [
        "cd drive/MyDrive/IT350-PROJECT"
      ]
    },
    {
      "cell_type": "code",
      "source": [
        "import os\n",
        "\n",
        "onlyfiles = next(os.walk('training_t2/TRAINING_DATA/2018_cases/neg'))[2] #dir is your directory path as string\n",
        "print(len(onlyfiles))"
      ],
      "metadata": {
        "colab": {
          "base_uri": "https://localhost:8080/"
        },
        "id": "Ix345ZQmXI35",
        "outputId": "138a58ed-4b99-4ae4-fb1a-7593b0ae310b"
      },
      "execution_count": null,
      "outputs": [
        {
          "output_type": "stream",
          "name": "stdout",
          "text": [
            "741\n"
          ]
        }
      ]
    },
    {
      "cell_type": "code",
      "source": [
        "# !wget http://nlp.stanford.edu/data/glove.6B.zip"
      ],
      "metadata": {
        "colab": {
          "base_uri": "https://localhost:8080/"
        },
        "id": "QPCifpx35vsm",
        "outputId": "9490de08-a4f0-4b71-92fe-eef584346797"
      },
      "execution_count": null,
      "outputs": [
        {
          "output_type": "stream",
          "name": "stdout",
          "text": [
            "--2022-04-11 13:58:56--  http://nlp.stanford.edu/data/glove.6B.zip\n",
            "Resolving nlp.stanford.edu (nlp.stanford.edu)... 171.64.67.140\n",
            "Connecting to nlp.stanford.edu (nlp.stanford.edu)|171.64.67.140|:80... connected.\n",
            "HTTP request sent, awaiting response... 302 Found\n",
            "Location: https://nlp.stanford.edu/data/glove.6B.zip [following]\n",
            "--2022-04-11 13:58:56--  https://nlp.stanford.edu/data/glove.6B.zip\n",
            "Connecting to nlp.stanford.edu (nlp.stanford.edu)|171.64.67.140|:443... connected.\n",
            "HTTP request sent, awaiting response... 301 Moved Permanently\n",
            "Location: http://downloads.cs.stanford.edu/nlp/data/glove.6B.zip [following]\n",
            "--2022-04-11 13:58:57--  http://downloads.cs.stanford.edu/nlp/data/glove.6B.zip\n",
            "Resolving downloads.cs.stanford.edu (downloads.cs.stanford.edu)... 171.64.64.22\n",
            "Connecting to downloads.cs.stanford.edu (downloads.cs.stanford.edu)|171.64.64.22|:80... connected.\n",
            "HTTP request sent, awaiting response... 200 OK\n",
            "Length: 862182613 (822M) [application/zip]\n",
            "Saving to: ‘glove.6B.zip’\n",
            "\n",
            "glove.6B.zip        100%[===================>] 822.24M  4.80MB/s    in 2m 41s  \n",
            "\n",
            "2022-04-11 14:01:38 (5.11 MB/s) - ‘glove.6B.zip’ saved [862182613/862182613]\n",
            "\n"
          ]
        }
      ]
    },
    {
      "cell_type": "code",
      "source": [
        "# !unzip glove*.zip"
      ],
      "metadata": {
        "colab": {
          "base_uri": "https://localhost:8080/"
        },
        "id": "RPkmjZpQ5v2Y",
        "outputId": "7d14cf89-c02f-47b0-9691-5c8df7db7f28"
      },
      "execution_count": null,
      "outputs": [
        {
          "output_type": "stream",
          "name": "stdout",
          "text": [
            "Archive:  glove.6B.zip\n",
            "  inflating: glove.6B.50d.txt        \n",
            "  inflating: glove.6B.100d.txt       \n",
            "  inflating: glove.6B.200d.txt       \n",
            "  inflating: glove.6B.300d.txt       \n"
          ]
        }
      ]
    },
    {
      "cell_type": "code",
      "source": [
        "!pip install nlpaug"
      ],
      "metadata": {
        "colab": {
          "base_uri": "https://localhost:8080/"
        },
        "id": "kvPKuXTm5v96",
        "outputId": "c0a26b3c-6770-452e-f6e3-3ab9ac881c2d"
      },
      "execution_count": null,
      "outputs": [
        {
          "output_type": "stream",
          "name": "stdout",
          "text": [
            "Collecting nlpaug\n",
            "  Downloading nlpaug-1.1.10-py3-none-any.whl (410 kB)\n",
            "\u001b[?25l\r\u001b[K     |▉                               | 10 kB 26.1 MB/s eta 0:00:01\r\u001b[K     |█▋                              | 20 kB 12.6 MB/s eta 0:00:01\r\u001b[K     |██▍                             | 30 kB 9.1 MB/s eta 0:00:01\r\u001b[K     |███▏                            | 40 kB 3.8 MB/s eta 0:00:01\r\u001b[K     |████                            | 51 kB 3.8 MB/s eta 0:00:01\r\u001b[K     |████▉                           | 61 kB 4.5 MB/s eta 0:00:01\r\u001b[K     |█████▋                          | 71 kB 4.7 MB/s eta 0:00:01\r\u001b[K     |██████▍                         | 81 kB 4.7 MB/s eta 0:00:01\r\u001b[K     |███████▏                        | 92 kB 5.2 MB/s eta 0:00:01\r\u001b[K     |████████                        | 102 kB 4.3 MB/s eta 0:00:01\r\u001b[K     |████████▊                       | 112 kB 4.3 MB/s eta 0:00:01\r\u001b[K     |█████████▋                      | 122 kB 4.3 MB/s eta 0:00:01\r\u001b[K     |██████████▍                     | 133 kB 4.3 MB/s eta 0:00:01\r\u001b[K     |███████████▏                    | 143 kB 4.3 MB/s eta 0:00:01\r\u001b[K     |████████████                    | 153 kB 4.3 MB/s eta 0:00:01\r\u001b[K     |████████████▊                   | 163 kB 4.3 MB/s eta 0:00:01\r\u001b[K     |█████████████▋                  | 174 kB 4.3 MB/s eta 0:00:01\r\u001b[K     |██████████████▍                 | 184 kB 4.3 MB/s eta 0:00:01\r\u001b[K     |███████████████▏                | 194 kB 4.3 MB/s eta 0:00:01\r\u001b[K     |████████████████                | 204 kB 4.3 MB/s eta 0:00:01\r\u001b[K     |████████████████▊               | 215 kB 4.3 MB/s eta 0:00:01\r\u001b[K     |█████████████████▌              | 225 kB 4.3 MB/s eta 0:00:01\r\u001b[K     |██████████████████▍             | 235 kB 4.3 MB/s eta 0:00:01\r\u001b[K     |███████████████████▏            | 245 kB 4.3 MB/s eta 0:00:01\r\u001b[K     |████████████████████            | 256 kB 4.3 MB/s eta 0:00:01\r\u001b[K     |████████████████████▊           | 266 kB 4.3 MB/s eta 0:00:01\r\u001b[K     |█████████████████████▌          | 276 kB 4.3 MB/s eta 0:00:01\r\u001b[K     |██████████████████████▎         | 286 kB 4.3 MB/s eta 0:00:01\r\u001b[K     |███████████████████████▏        | 296 kB 4.3 MB/s eta 0:00:01\r\u001b[K     |████████████████████████        | 307 kB 4.3 MB/s eta 0:00:01\r\u001b[K     |████████████████████████▊       | 317 kB 4.3 MB/s eta 0:00:01\r\u001b[K     |█████████████████████████▌      | 327 kB 4.3 MB/s eta 0:00:01\r\u001b[K     |██████████████████████████▎     | 337 kB 4.3 MB/s eta 0:00:01\r\u001b[K     |███████████████████████████▏    | 348 kB 4.3 MB/s eta 0:00:01\r\u001b[K     |████████████████████████████    | 358 kB 4.3 MB/s eta 0:00:01\r\u001b[K     |████████████████████████████▊   | 368 kB 4.3 MB/s eta 0:00:01\r\u001b[K     |█████████████████████████████▌  | 378 kB 4.3 MB/s eta 0:00:01\r\u001b[K     |██████████████████████████████▎ | 389 kB 4.3 MB/s eta 0:00:01\r\u001b[K     |███████████████████████████████ | 399 kB 4.3 MB/s eta 0:00:01\r\u001b[K     |████████████████████████████████| 409 kB 4.3 MB/s eta 0:00:01\r\u001b[K     |████████████████████████████████| 410 kB 4.3 MB/s \n",
            "\u001b[?25hRequirement already satisfied: numpy>=1.16.2 in /usr/local/lib/python3.7/dist-packages (from nlpaug) (1.21.6)\n",
            "Requirement already satisfied: pandas>=1.2.0 in /usr/local/lib/python3.7/dist-packages (from nlpaug) (1.3.5)\n",
            "Requirement already satisfied: requests>=2.22.0 in /usr/local/lib/python3.7/dist-packages (from nlpaug) (2.23.0)\n",
            "Requirement already satisfied: pytz>=2017.3 in /usr/local/lib/python3.7/dist-packages (from pandas>=1.2.0->nlpaug) (2022.1)\n",
            "Requirement already satisfied: python-dateutil>=2.7.3 in /usr/local/lib/python3.7/dist-packages (from pandas>=1.2.0->nlpaug) (2.8.2)\n",
            "Requirement already satisfied: six>=1.5 in /usr/local/lib/python3.7/dist-packages (from python-dateutil>=2.7.3->pandas>=1.2.0->nlpaug) (1.15.0)\n",
            "Requirement already satisfied: certifi>=2017.4.17 in /usr/local/lib/python3.7/dist-packages (from requests>=2.22.0->nlpaug) (2021.10.8)\n",
            "Requirement already satisfied: idna<3,>=2.5 in /usr/local/lib/python3.7/dist-packages (from requests>=2.22.0->nlpaug) (2.10)\n",
            "Requirement already satisfied: urllib3!=1.25.0,!=1.25.1,<1.26,>=1.21.1 in /usr/local/lib/python3.7/dist-packages (from requests>=2.22.0->nlpaug) (1.24.3)\n",
            "Requirement already satisfied: chardet<4,>=3.0.2 in /usr/local/lib/python3.7/dist-packages (from requests>=2.22.0->nlpaug) (3.0.4)\n",
            "Installing collected packages: nlpaug\n",
            "Successfully installed nlpaug-1.1.10\n"
          ]
        }
      ]
    },
    {
      "cell_type": "code",
      "source": [
        "import nlpaug.augmenter.word as naw"
      ],
      "metadata": {
        "id": "1ChHjU8E5wDh"
      },
      "execution_count": null,
      "outputs": []
    },
    {
      "cell_type": "code",
      "source": [
        "!pip install gensim==4.1.2"
      ],
      "metadata": {
        "colab": {
          "base_uri": "https://localhost:8080/",
          "height": 311
        },
        "id": "IZjg77exCC8-",
        "outputId": "79ddfec3-2e74-4501-8868-7e5dc77d4bdd"
      },
      "execution_count": null,
      "outputs": [
        {
          "output_type": "stream",
          "name": "stdout",
          "text": [
            "Collecting gensim==4.1.2\n",
            "  Downloading gensim-4.1.2-cp37-cp37m-manylinux_2_12_x86_64.manylinux2010_x86_64.whl (24.1 MB)\n",
            "\u001b[K     |████████████████████████████████| 24.1 MB 1.1 MB/s \n",
            "\u001b[?25hRequirement already satisfied: smart-open>=1.8.1 in /usr/local/lib/python3.7/dist-packages (from gensim==4.1.2) (5.2.1)\n",
            "Requirement already satisfied: numpy>=1.17.0 in /usr/local/lib/python3.7/dist-packages (from gensim==4.1.2) (1.21.6)\n",
            "Requirement already satisfied: scipy>=0.18.1 in /usr/local/lib/python3.7/dist-packages (from gensim==4.1.2) (1.4.1)\n",
            "Installing collected packages: gensim\n",
            "  Attempting uninstall: gensim\n",
            "    Found existing installation: gensim 3.6.0\n",
            "    Uninstalling gensim-3.6.0:\n",
            "      Successfully uninstalled gensim-3.6.0\n",
            "Successfully installed gensim-4.1.2\n"
          ]
        },
        {
          "output_type": "display_data",
          "data": {
            "application/vnd.colab-display-data+json": {
              "pip_warning": {
                "packages": [
                  "gensim"
                ]
              }
            }
          },
          "metadata": {}
        }
      ]
    },
    {
      "cell_type": "code",
      "source": [
        "test_sentence = \" I Went Shopping Today, And My Trolley was filled with Bananas. I also had food at a burger place\""
      ],
      "metadata": {
        "id": "KLw-UssY9MZJ"
      },
      "execution_count": null,
      "outputs": []
    },
    {
      "cell_type": "code",
      "source": [
        "test_sentence = \"Misleading reviews. Worst coffee ever had, and sorely disappointing vibe.\""
      ],
      "metadata": {
        "id": "ib3V45VXyZRm"
      },
      "execution_count": null,
      "outputs": []
    },
    {
      "cell_type": "code",
      "source": [
        "aug_glove = naw.WordEmbsAug(model_type='glove', model_path='glove.6B.300d.txt',action=\"substitute\")\n",
        "aug_glove_2 = naw.WordEmbsAug(model_type='glove', model_path='glove.6B.300d.txt',action=\"insert\")"
      ],
      "metadata": {
        "id": "KL2YdE098yf6"
      },
      "execution_count": null,
      "outputs": []
    },
    {
      "cell_type": "code",
      "source": [
        "test_sentence = \"I am hoping for some guidance on some books or courses that can steer me in the right direction for a Product Manager gig in the Pharma industry.\""
      ],
      "metadata": {
        "id": "o84rzEhlp3ti"
      },
      "execution_count": null,
      "outputs": []
    },
    {
      "cell_type": "code",
      "source": [
        "print(\"Original Text:\")\n",
        "print(test_sentence)\n",
        "print(\"\\nAugmented Text:\")\n",
        "print(\"\\n1. Using Glove (Substituting words)\")\n",
        "augmented_text = aug_glove.augment(test_sentence)\n",
        "print(augmented_text)\n",
        "print(\"\\n2. Using Glove (Inserting words)\")\n",
        "augmented_text_2 = aug_glove_2.augment(test_sentence)\n",
        "print(augmented_text_2)\n",
        "print(\"\\n3. Using Synonym augmenter\")\n",
        "aug = naw.SynonymAug(aug_src='wordnet',aug_max=10)\n",
        "a3 = aug.augment(test_sentence,n=1)\n",
        "print(a3)\n"
      ],
      "metadata": {
        "colab": {
          "base_uri": "https://localhost:8080/"
        },
        "id": "qlrTNnVUzB7Z",
        "outputId": "7597a437-7b24-4a83-d127-3c5bb92dcb51"
      },
      "execution_count": null,
      "outputs": [
        {
          "output_type": "stream",
          "name": "stdout",
          "text": [
            "Original Text:\n",
            "I am hoping for some guidance on some books or courses that can steer me in the right direction for a Product Manager gig in the Pharma industry.\n",
            "Augmented Text:\n",
            "\n",
            "1. Using Glove (Substituting words)\n",
            "I n't hoping for some seek on some books or graduate-level that can disengage me in the thing direction week more Product Manager jovi months the Pharma industry.\n",
            "\n",
            "2. Using Glove (Inserting words)\n",
            "chaloupka I am hoping for some guidance on some bruising books or courses kalpitiya that mantou can charreyre steer me in the right xijin direction pinyon-juniper for a drewry Product Manager gig in junus the Pharma industry.\n",
            "\n",
            "3. Using Synonym augmenter\n",
            "I be hope for some guidance on some account book or grade that can steer me in the proper direction for a Ware Manager gig in the Pharma industry.\n"
          ]
        }
      ]
    },
    {
      "cell_type": "code",
      "source": [
        "# aug = naw.SynonymAug(aug_src='wordnet',aug_max=5)\n",
        "# # a3 = aug.augment(test_sentence,n=1)\n",
        "# # print(a3)"
      ],
      "metadata": {
        "id": "F6iHpcHnEptI"
      },
      "execution_count": null,
      "outputs": []
    },
    {
      "cell_type": "code",
      "source": [
        "aug = naw.SynonymAug(aug_src='wordnet',aug_max=20)"
      ],
      "metadata": {
        "id": "7PBeiKSGp0fg"
      },
      "execution_count": null,
      "outputs": []
    },
    {
      "cell_type": "code",
      "execution_count": null,
      "metadata": {
        "id": "bk1WbFhyP62U"
      },
      "outputs": [],
      "source": [
        "import string\n",
        "import re\n",
        "import os\n",
        "import pandas as pd"
      ]
    },
    {
      "cell_type": "code",
      "source": [
        "import string\n",
        "import re\n",
        "\n",
        "#@title\n",
        "EMOTICONS = {\n",
        "    u\":‑\\)\":\"Happy face\",\n",
        "    u\":\\)\":\"Happy face\",\n",
        "    u\":-\\]\":\"Happy face\",\n",
        "    u\":\\]\":\"Happy face\",\n",
        "    u\":-3\":\"Happy face\",\n",
        "    u\":3\":\"Happy face\",\n",
        "    u\":->\":\"Happy face\",\n",
        "    u\":>\":\"Happy face\",\n",
        "    u\"8-\\)\":\"Happy face\",\n",
        "    u\":o\\)\":\"Happy face\",\n",
        "    u\":-\\}\":\"Happy face\",\n",
        "    u\":\\}\":\"Happy face\",\n",
        "    u\":-\\)\":\"Happy face\",\n",
        "    u\":c\\)\":\"Happy face\",\n",
        "    u\":\\^\\)\":\"Happy face\",\n",
        "    u\"=\\]\":\"Happy face\",\n",
        "    u\"=\\)\":\"Happy face\",\n",
        "    u\":‑D\":\"Laughing, big grin or laugh with glasses\",\n",
        "    u\":D\":\"Laughing, big grin or laugh with glasses\",\n",
        "    u\"8‑D\":\"Laughing, big grin or laugh with glasses\",\n",
        "    u\"8D\":\"Laughing, big grin or laugh with glasses\",\n",
        "    u\"X‑D\":\"Laughing, big grin or laugh with glasses\",\n",
        "    u\"XD\":\"Laughing, big grin or laugh with glasses\",\n",
        "    u\"=D\":\"Laughing, big grin or laugh with glasses\",\n",
        "    u\"=3\":\"Laughing, big grin or laugh with glasses\",\n",
        "    u\"B\\^D\":\"Laughing, big grin or laugh with glasses\",\n",
        "    u\":-\\)\\)\":\"Very happy\",\n",
        "    u\":‑\\(\":\"Frown, sad, andry or pouting\",\n",
        "    u\":-\\(\":\"Frown, sad, andry or pouting\",\n",
        "    u\":\\(\":\"Frown, sad, andry or pouting\",\n",
        "    u\":‑c\":\"Frown, sad, andry or pouting\",\n",
        "    u\":c\":\"Frown, sad, andry or pouting\",\n",
        "    u\":‑<\":\"Frown, sad, andry or pouting\",\n",
        "    u\":<\":\"Frown, sad, andry or pouting\",\n",
        "    u\":‑\\[\":\"Frown, sad, andry or pouting\",\n",
        "    u\":\\[\":\"Frown, sad, andry or pouting\",\n",
        "    u\":-\\|\\|\":\"Frown, sad, andry or pouting\",\n",
        "    u\">:\\[\":\"Frown, sad, andry or pouting\",\n",
        "    u\":\\{\":\"Frown, sad, andry or pouting\",\n",
        "    u\":@\":\"Frown, sad, andry or pouting\",\n",
        "    u\">:\\(\":\"Frown, sad, andry or pouting\",\n",
        "    u\":'‑\\(\":\"Crying\",\n",
        "    u\":'\\(\":\"Crying\",\n",
        "    u\":'‑\\)\":\"Tears of happiness\",\n",
        "    u\":'\\)\":\"Tears of happiness\",\n",
        "    u\"D‑':\":\"Horror\",\n",
        "    u\"D:<\":\"Disgust\",\n",
        "    u\"D:\":\"Sadness\",\n",
        "    u\"D8\":\"Great dismay\",\n",
        "    u\"D;\":\"Great dismay\",\n",
        "    u\"D=\":\"Great dismay\",\n",
        "    u\"DX\":\"Great dismay\",\n",
        "    u\":‑O\":\"Surprise\",\n",
        "    u\":O\":\"Surprise\",\n",
        "    u\":‑o\":\"Surprise\",\n",
        "    u\":o\":\"Surprise\",\n",
        "    u\":-0\":\"Shock\",\n",
        "    u\"8‑0\":\"Yawn\",\n",
        "    u\">:O\":\"Yawn\",\n",
        "    u\":-\\*\":\"Kiss\",\n",
        "    u\":\\*\":\"Kiss\",\n",
        "    u\":X\":\"Kiss\",\n",
        "    u\";‑\\)\":\"Wink or smirk\",\n",
        "    u\";\\)\":\"Wink or smirk\",\n",
        "    u\"\\*-\\)\":\"Wink or smirk\",\n",
        "    u\"\\*\\)\":\"Wink or smirk\",\n",
        "    u\";‑\\]\":\"Wink or smirk\",\n",
        "    u\";\\]\":\"Wink or smirk\",\n",
        "    u\";\\^\\)\":\"Wink or smirk\",\n",
        "    u\":‑,\":\"Wink or smirk\",\n",
        "    u\";D\":\"Wink or smirk\",\n",
        "    u\":‑P\":\"Tongue sticking out, cheeky, playful or blowing a raspberry\",\n",
        "    u\":P\":\"Tongue sticking out, cheeky, playful or blowing a raspberry\",\n",
        "    u\"X‑P\":\"Tongue sticking out, cheeky, playful or blowing a raspberry\",\n",
        "    u\"XP\":\"Tongue sticking out, cheeky, playful or blowing a raspberry\",\n",
        "    u\":‑Þ\":\"Tongue sticking out, cheeky, playful or blowing a raspberry\",\n",
        "    u\":Þ\":\"Tongue sticking out, cheeky, playful or blowing a raspberry\",\n",
        "    u\":b\":\"Tongue sticking out, cheeky, playful or blowing a raspberry\",\n",
        "    u\"d:\":\"Tongue sticking out, cheeky, playful or blowing a raspberry\",\n",
        "    u\"=p\":\"Tongue sticking out, cheeky, playful or blowing a raspberry\",\n",
        "    u\">:P\":\"Tongue sticking out, cheeky, playful or blowing a raspberry\",\n",
        "    u\":‑/\":\"Skeptical, annoyed, undecided, uneasy or hesitant\",\n",
        "    u\":/\":\"Skeptical, annoyed, undecided, uneasy or hesitant\",\n",
        "    u\":-[.]\":\"Skeptical, annoyed, undecided, uneasy or hesitant\",\n",
        "    u\">:[(\\\\\\)]\":\"Skeptical, annoyed, undecided, uneasy or hesitant\",\n",
        "    u\">:/\":\"Skeptical, annoyed, undecided, uneasy or hesitant\",\n",
        "    u\":[(\\\\\\)]\":\"Skeptical, annoyed, undecided, uneasy or hesitant\",\n",
        "    u\"=/\":\"Skeptical, annoyed, undecided, uneasy or hesitant\",\n",
        "    u\"=[(\\\\\\)]\":\"Skeptical, annoyed, undecided, uneasy or hesitant\",\n",
        "    u\":L\":\"Skeptical, annoyed, undecided, uneasy or hesitant\",\n",
        "    u\"=L\":\"Skeptical, annoyed, undecided, uneasy or hesitant\",\n",
        "    u\":S\":\"Skeptical, annoyed, undecided, uneasy or hesitant\",\n",
        "    u\":‑\\|\":\"Straight face\",\n",
        "    u\":\\|\":\"Straight face\",\n",
        "    u\":$\":\"Embarrassed or blushing\",\n",
        "    u\":‑x\":\"Sealed lips or wearing braces or tongue-tied\",\n",
        "    u\":x\":\"Sealed lips or wearing braces or tongue-tied\",\n",
        "    u\":‑#\":\"Sealed lips or wearing braces or tongue-tied\",\n",
        "    u\":#\":\"Sealed lips or wearing braces or tongue-tied\",\n",
        "    u\":‑&\":\"Sealed lips or wearing braces or tongue-tied\",\n",
        "    u\":&\":\"Sealed lips or wearing braces or tongue-tied\",\n",
        "    u\"O:‑\\)\":\"Angel, saint or innocent\",\n",
        "    u\"O:\\)\":\"Angel, saint or innocent\",\n",
        "    u\"0:‑3\":\"Angel, saint or innocent\",\n",
        "    u\"0:3\":\"Angel, saint or innocent\",\n",
        "    u\"0:‑\\)\":\"Angel, saint or innocent\",\n",
        "    u\"0:\\)\":\"Angel, saint or innocent\",\n",
        "    u\":‑b\":\"Tongue sticking out, cheeky, playful or blowing a raspberry\",\n",
        "    u\"0;\\^\\)\":\"Angel, saint or innocent\",\n",
        "    u\">:‑\\)\":\"Evil or devilish\",\n",
        "    u\">:\\)\":\"Evil or devilish\",\n",
        "    u\"\\}:‑\\)\":\"Evil or devilish\",\n",
        "    u\"\\}:\\)\":\"Evil or devilish\",\n",
        "    u\"3:‑\\)\":\"Evil or devilish\",\n",
        "    u\"3:\\)\":\"Evil or devilish\",\n",
        "    u\">;\\)\":\"Evil or devilish\",\n",
        "    u\"\\|;‑\\)\":\"Cool\",\n",
        "    u\"\\|‑O\":\"Bored\",\n",
        "    u\":‑J\":\"Tongue-in-cheek\",\n",
        "    u\"#‑\\)\":\"Party all night\",\n",
        "    u\"%‑\\)\":\"Drunk or confused\",\n",
        "    u\"%\\)\":\"Drunk or confused\",\n",
        "    u\":-###..\":\"Being sick\",\n",
        "    u\":###..\":\"Being sick\",\n",
        "    u\"<:‑\\|\":\"Dump\",\n",
        "    u\"\\(>_<\\)\":\"Troubled\",\n",
        "    u\"\\(>_<\\)>\":\"Troubled\",\n",
        "    u\"\\(';'\\)\":\"Baby\",\n",
        "    u\"\\(\\^\\^>``\":\"Nervous or Embarrassed or Troubled or Shy or Sweat drop\",\n",
        "    u\"\\(\\^_\\^;\\)\":\"Nervous or Embarrassed or Troubled or Shy or Sweat drop\",\n",
        "    u\"\\(-_-;\\)\":\"Nervous or Embarrassed or Troubled or Shy or Sweat drop\",\n",
        "    u\"\\(~_~;\\) \\(・\\.・;\\)\":\"Nervous or Embarrassed or Troubled or Shy or Sweat drop\",\n",
        "    u\"\\(-_-\\)zzz\":\"Sleeping\",\n",
        "    u\"\\(\\^_-\\)\":\"Wink\",\n",
        "    u\"\\(\\(\\+_\\+\\)\\)\":\"Confused\",\n",
        "    u\"\\(\\+o\\+\\)\":\"Confused\",\n",
        "    u\"\\(o\\|o\\)\":\"Ultraman\",\n",
        "    u\"\\^_\\^\":\"Joyful\",\n",
        "    u\"\\(\\^_\\^\\)/\":\"Joyful\",\n",
        "    u\"\\(\\^O\\^\\)／\":\"Joyful\",\n",
        "    u\"\\(\\^o\\^\\)／\":\"Joyful\",\n",
        "    u\"\\(__\\)\":\"Kowtow as a sign of respect, or dogeza for apology\",\n",
        "    u\"_\\(\\._\\.\\)_\":\"Kowtow as a sign of respect, or dogeza for apology\",\n",
        "    u\"<\\(_ _\\)>\":\"Kowtow as a sign of respect, or dogeza for apology\",\n",
        "    u\"<m\\(__\\)m>\":\"Kowtow as a sign of respect, or dogeza for apology\",\n",
        "    u\"m\\(__\\)m\":\"Kowtow as a sign of respect, or dogeza for apology\",\n",
        "    u\"m\\(_ _\\)m\":\"Kowtow as a sign of respect, or dogeza for apology\",\n",
        "    u\"\\('_'\\)\":\"Sad or Crying\",\n",
        "    u\"\\(/_;\\)\":\"Sad or Crying\",\n",
        "    u\"\\(T_T\\) \\(;_;\\)\":\"Sad or Crying\",\n",
        "    u\"\\(;_;\":\"Sad of Crying\",\n",
        "    u\"\\(;_:\\)\":\"Sad or Crying\",\n",
        "    u\"\\(;O;\\)\":\"Sad or Crying\",\n",
        "    u\"\\(:_;\\)\":\"Sad or Crying\",\n",
        "    u\"\\(ToT\\)\":\"Sad or Crying\",\n",
        "    u\";_;\":\"Sad or Crying\",\n",
        "    u\";-;\":\"Sad or Crying\",\n",
        "    u\";n;\":\"Sad or Crying\",\n",
        "    u\";;\":\"Sad or Crying\",\n",
        "    u\"Q\\.Q\":\"Sad or Crying\",\n",
        "    u\"T\\.T\":\"Sad or Crying\",\n",
        "    u\"QQ\":\"Sad or Crying\",\n",
        "    u\"Q_Q\":\"Sad or Crying\",\n",
        "    u\"\\(-\\.-\\)\":\"Shame\",\n",
        "    u\"\\(-_-\\)\":\"Shame\",\n",
        "    u\"\\(一一\\)\":\"Shame\",\n",
        "    u\"\\(；一_一\\)\":\"Shame\",\n",
        "    u\"\\(=_=\\)\":\"Tired\",\n",
        "    u\"\\(=\\^\\·\\^=\\)\":\"cat\",\n",
        "    u\"\\(=\\^\\·\\·\\^=\\)\":\"cat\",\n",
        "    u\"=_\\^=\t\":\"cat\",\n",
        "    u\"\\(\\.\\.\\)\":\"Looking down\",\n",
        "    u\"\\(\\._\\.\\)\":\"Looking down\",\n",
        "    u\"\\^m\\^\":\"Giggling with hand covering mouth\",\n",
        "    u\"\\(\\・\\・?\":\"Confusion\",\n",
        "    u\"\\(?_?\\)\":\"Confusion\",\n",
        "    u\">\\^_\\^<\":\"Normal Laugh\",\n",
        "    u\"<\\^!\\^>\":\"Normal Laugh\",\n",
        "    u\"\\^/\\^\":\"Normal Laugh\",\n",
        "    u\"\\（\\*\\^_\\^\\*）\" :\"Normal Laugh\",\n",
        "    u\"\\(\\^<\\^\\) \\(\\^\\.\\^\\)\":\"Normal Laugh\",\n",
        "    u\"\\(^\\^\\)\":\"Normal Laugh\",\n",
        "    u\"\\(\\^\\.\\^\\)\":\"Normal Laugh\",\n",
        "    u\"\\(\\^_\\^\\.\\)\":\"Normal Laugh\",\n",
        "    u\"\\(\\^_\\^\\)\":\"Normal Laugh\",\n",
        "    u\"\\(\\^\\^\\)\":\"Normal Laugh\",\n",
        "    u\"\\(\\^J\\^\\)\":\"Normal Laugh\",\n",
        "    u\"\\(\\*\\^\\.\\^\\*\\)\":\"Normal Laugh\",\n",
        "    u\"\\(\\^—\\^\\）\":\"Normal Laugh\",\n",
        "    u\"\\(#\\^\\.\\^#\\)\":\"Normal Laugh\",\n",
        "    u\"\\（\\^—\\^\\）\":\"Waving\",\n",
        "    u\"\\(;_;\\)/~~~\":\"Waving\",\n",
        "    u\"\\(\\^\\.\\^\\)/~~~\":\"Waving\",\n",
        "    u\"\\(-_-\\)/~~~ \\($\\·\\·\\)/~~~\":\"Waving\",\n",
        "    u\"\\(T_T\\)/~~~\":\"Waving\",\n",
        "    u\"\\(ToT\\)/~~~\":\"Waving\",\n",
        "    u\"\\(\\*\\^0\\^\\*\\)\":\"Excited\",\n",
        "    u\"\\(\\*_\\*\\)\":\"Amazed\",\n",
        "    u\"\\(\\*_\\*;\":\"Amazed\",\n",
        "    u\"\\(\\+_\\+\\) \\(@_@\\)\":\"Amazed\",\n",
        "    u\"\\(\\*\\^\\^\\)v\":\"Laughing,Cheerful\",\n",
        "    u\"\\(\\^_\\^\\)v\":\"Laughing,Cheerful\",\n",
        "    u\"\\(\\(d[-_-]b\\)\\)\":\"Headphones,Listening to music\",\n",
        "    u'\\(-\"-\\)':\"Worried\",\n",
        "    u\"\\(ーー;\\)\":\"Worried\",\n",
        "    u\"\\(\\^0_0\\^\\)\":\"Eyeglasses\",\n",
        "    u\"\\(\\＾ｖ\\＾\\)\":\"Happy\",\n",
        "    u\"\\(\\＾ｕ\\＾\\)\":\"Happy\",\n",
        "    u\"\\(\\^\\)o\\(\\^\\)\":\"Happy\",\n",
        "    u\"\\(\\^O\\^\\)\":\"Happy\",\n",
        "    u\"\\(\\^o\\^\\)\":\"Happy\",\n",
        "    u\"\\)\\^o\\^\\(\":\"Happy\",\n",
        "    u\":O o_O\":\"Surprised\",\n",
        "    u\"o_0\":\"Surprised\",\n",
        "    u\"o\\.O\":\"Surpised\",\n",
        "    u\"\\(o\\.o\\)\":\"Surprised\",\n",
        "    u\"oO\":\"Surprised\",\n",
        "    u\"\\(\\*￣m￣\\)\":\"Dissatisfied\",\n",
        "    u\"\\(‘A`\\)\":\"Snubbed or Deflated\"\n",
        "}\n",
        "\n",
        "\n",
        "def remove_specialchar_numbers(text):\n",
        "    punctuationfree = re.sub('[^A-Za-z ]+', ' ', text)\n",
        "    punctuationfree=' '.join(punctuationfree.split())\n",
        "    return punctuationfree\n",
        "\n",
        "\n",
        "def remove_urls(text):\n",
        "    url_pattern = re.sub(r'http\\S+', '', text)\n",
        "    return url_pattern\n",
        "\n",
        "def convert_emoticons(text):\n",
        "    for emot in EMOTICONS:\n",
        "        text = re.sub(u'('+emot+')', \"_\".join(EMOTICONS[emot].replace(\",\",\"\").split()), text)\n",
        "    return text\n",
        "\n",
        "def remove_html(text):\n",
        "    html_pattern = re.compile('<.*?>')\n",
        "    return html_pattern.sub(r'', text)\n",
        "\n",
        "from nltk.corpus import stopwords\n",
        "from nltk.tokenize import word_tokenize\n",
        "\n",
        "def stopword_removal(text):\n",
        "    stop_words = set(stopwords.words('english'))\n",
        "    \n",
        "    word_tokens = word_tokenize(text)\n",
        "    \n",
        "    filtered_sentence = [w for w in word_tokens if not w.lower() in stop_words]\n",
        "\n",
        "    return filtered_sentence\n",
        "\n",
        "\n",
        "def preprocess_data(text):\n",
        "  text = text.lower()\n",
        "  text = remove_html(text)\n",
        "  text = convert_emoticons(text)\n",
        "  text = remove_urls(text)\n",
        "  text = remove_specialchar_numbers(text)\n",
        "  return text"
      ],
      "metadata": {
        "id": "jKKjvdUPQTVB",
        "cellView": "form"
      },
      "execution_count": null,
      "outputs": []
    },
    {
      "cell_type": "code",
      "source": [
        "dataset = pd.read_csv(\"aug.csv\")\n",
        "dataset[\"Label\"].value_counts()"
      ],
      "metadata": {
        "colab": {
          "base_uri": "https://localhost:8080/"
        },
        "id": "3P8MzoQMqq0M",
        "outputId": "64c115c6-84c2-4dd8-e2a6-64ab2aba04ce"
      },
      "execution_count": null,
      "outputs": [
        {
          "output_type": "execute_result",
          "data": {
            "text/plain": [
              "pos      215312\n",
              "neg      192435\n",
              "Label         1\n",
              "Name: Label, dtype: int64"
            ]
          },
          "metadata": {},
          "execution_count": 32
        }
      ]
    },
    {
      "cell_type": "code",
      "source": [
        "# remove < 70\n",
        "dataset = pd.read_csv(\"noaug.csv\")\n",
        "dataset[\"Label\"].value_counts()"
      ],
      "metadata": {
        "colab": {
          "base_uri": "https://localhost:8080/"
        },
        "id": "yVC9V-ASw4Yh",
        "outputId": "36c72348-2c24-4a7a-a994-23e1fd22791b"
      },
      "execution_count": null,
      "outputs": [
        {
          "output_type": "execute_result",
          "data": {
            "text/plain": [
              "neg    192435\n",
              "pos     96568\n",
              "Name: Label, dtype: int64"
            ]
          },
          "metadata": {},
          "execution_count": 34
        }
      ]
    },
    {
      "cell_type": "code",
      "source": [
        "# remove < 60\n",
        "dataset = pd.read_csv(\"noaug.csv\")\n",
        "dataset[\"Label\"].value_counts()"
      ],
      "metadata": {
        "colab": {
          "base_uri": "https://localhost:8080/"
        },
        "id": "KEQiGh6B5Yfc",
        "outputId": "5cc1f0c3-360b-4498-a9ec-c30118c8abe7"
      },
      "execution_count": null,
      "outputs": [
        {
          "output_type": "execute_result",
          "data": {
            "text/plain": [
              "neg    210941\n",
              "pos     96568\n",
              "Name: Label, dtype: int64"
            ]
          },
          "metadata": {},
          "execution_count": 43
        }
      ]
    },
    {
      "cell_type": "code",
      "execution_count": null,
      "metadata": {
        "id": "mfSq8455SLdl",
        "colab": {
          "base_uri": "https://localhost:8080/"
        },
        "outputId": "8b05499f-1681-4464-d9b3-b01e8a00c755"
      },
      "outputs": [
        {
          "output_type": "execute_result",
          "data": {
            "text/plain": [
              "neg    325967\n",
              "pos     96568\n",
              "Name: Label, dtype: int64"
            ]
          },
          "metadata": {},
          "execution_count": 13
        }
      ],
      "source": [
        "dataset = pd.read_csv(\"noaug_new.csv\")\n",
        "dataset[\"Label\"].value_counts()"
      ]
    },
    {
      "cell_type": "code",
      "execution_count": null,
      "metadata": {
        "id": "eI4eckHqQADc"
      },
      "outputs": [],
      "source": [
        "def remove_specialchar_numbers(text):\n",
        "    punctuationfree = re.sub('[^A-Za-z ]+', ' ', text)\n",
        "    punctuationfree=' '.join(punctuationfree.split())\n",
        "    return punctuationfree"
      ]
    },
    {
      "cell_type": "code",
      "execution_count": null,
      "metadata": {
        "id": "zZcfzUYMQRbk"
      },
      "outputs": [],
      "source": [
        "def remove_urls(text):\n",
        "    url_pattern = re.sub(r'http\\S+', '', text)\n",
        "    return url_pattern"
      ]
    },
    {
      "cell_type": "code",
      "execution_count": null,
      "metadata": {
        "id": "f8yFzNWoRFak"
      },
      "outputs": [],
      "source": [
        "def convert_emoticons(text):\n",
        "    for emot in EMOTICONS:\n",
        "        text = re.sub(u'('+emot+')', \"_\".join(EMOTICONS[emot].replace(\",\",\"\").split()), text)\n",
        "    return text"
      ]
    },
    {
      "cell_type": "code",
      "execution_count": null,
      "metadata": {
        "id": "SCfFC_KQSxP2"
      },
      "outputs": [],
      "source": [
        "def remove_html(text):\n",
        "    html_pattern = re.compile('<.*?>')\n",
        "    return html_pattern.sub(r'', text)"
      ]
    },
    {
      "cell_type": "code",
      "source": [
        "from nltk.corpus import stopwords\n",
        "from nltk.tokenize import word_tokenize\n",
        "\n",
        "def stopword_removal(text):\n",
        "    stop_words = set(stopwords.words('english'))\n",
        "    \n",
        "    word_tokens = word_tokenize(text)\n",
        "    \n",
        "    filtered_sentence = [w for w in word_tokens if not w.lower() in stop_words]\n",
        "\n",
        "    return filtered_sentence"
      ],
      "metadata": {
        "id": "c-hTcGM3NYjy"
      },
      "execution_count": null,
      "outputs": []
    },
    {
      "cell_type": "code",
      "source": [
        "!pip install wget==3.2\n",
        "!pip install matplotlib==3.2.2\n",
        "!pip install requests==2.23.0"
      ],
      "metadata": {
        "colab": {
          "base_uri": "https://localhost:8080/"
        },
        "id": "zReS6hpQsC3n",
        "outputId": "67500d41-b7fa-4fc3-8ab0-7be93e2edb68"
      },
      "execution_count": null,
      "outputs": [
        {
          "output_type": "stream",
          "name": "stdout",
          "text": [
            "Requirement already satisfied: wget==3.2 in /usr/local/lib/python3.7/dist-packages (3.2)\n",
            "Requirement already satisfied: matplotlib==3.2.2 in /usr/local/lib/python3.7/dist-packages (3.2.2)\n",
            "Requirement already satisfied: kiwisolver>=1.0.1 in /usr/local/lib/python3.7/dist-packages (from matplotlib==3.2.2) (1.4.0)\n",
            "Requirement already satisfied: python-dateutil>=2.1 in /usr/local/lib/python3.7/dist-packages (from matplotlib==3.2.2) (2.8.2)\n",
            "Requirement already satisfied: pyparsing!=2.0.4,!=2.1.2,!=2.1.6,>=2.0.1 in /usr/local/lib/python3.7/dist-packages (from matplotlib==3.2.2) (3.0.7)\n",
            "Requirement already satisfied: cycler>=0.10 in /usr/local/lib/python3.7/dist-packages (from matplotlib==3.2.2) (0.11.0)\n",
            "Requirement already satisfied: numpy>=1.11 in /usr/local/lib/python3.7/dist-packages (from matplotlib==3.2.2) (1.21.5)\n",
            "Requirement already satisfied: typing-extensions in /usr/local/lib/python3.7/dist-packages (from kiwisolver>=1.0.1->matplotlib==3.2.2) (3.10.0.2)\n",
            "Requirement already satisfied: six>=1.5 in /usr/local/lib/python3.7/dist-packages (from python-dateutil>=2.1->matplotlib==3.2.2) (1.15.0)\n",
            "Requirement already satisfied: requests==2.23.0 in /usr/local/lib/python3.7/dist-packages (2.23.0)\n",
            "Requirement already satisfied: urllib3!=1.25.0,!=1.25.1,<1.26,>=1.21.1 in /usr/local/lib/python3.7/dist-packages (from requests==2.23.0) (1.24.3)\n",
            "Requirement already satisfied: chardet<4,>=3.0.2 in /usr/local/lib/python3.7/dist-packages (from requests==2.23.0) (3.0.4)\n",
            "Requirement already satisfied: idna<3,>=2.5 in /usr/local/lib/python3.7/dist-packages (from requests==2.23.0) (2.10)\n",
            "Requirement already satisfied: certifi>=2017.4.17 in /usr/local/lib/python3.7/dist-packages (from requests==2.23.0) (2021.10.8)\n"
          ]
        }
      ]
    },
    {
      "cell_type": "code",
      "source": [
        "import wget"
      ],
      "metadata": {
        "id": "SwucjWE4sRdl"
      },
      "execution_count": null,
      "outputs": []
    },
    {
      "cell_type": "code",
      "source": [
        "import gzip\n",
        "import shutil\n",
        "\n",
        "gn_vec_path = \"GoogleNews-vectors-negative300.bin\"\n",
        "if not os.path.exists(\"GoogleNews-vectors-negative300.bin\"):\n",
        "    if not os.path.exists(\"../Ch3/GoogleNews-vectors-negative300.bin\"):\n",
        "        # Downloading the reqired model\n",
        "        if not os.path.exists(\"../Ch3/GoogleNews-vectors-negative300.bin.gz\"):\n",
        "            if not os.path.exists(\"GoogleNews-vectors-negative300.bin.gz\"):\n",
        "                wget.download(\"https://s3.amazonaws.com/dl4j-distribution/GoogleNews-vectors-negative300.bin.gz\")\n",
        "            gn_vec_zip_path = \"GoogleNews-vectors-negative300.bin.gz\"\n",
        "        else:\n",
        "            gn_vec_zip_path = \"../Ch3/GoogleNews-vectors-negative300.bin.gz\"\n",
        "        # Extracting the required model\n",
        "        with gzip.open(gn_vec_zip_path, 'rb') as f_in:\n",
        "            with open(gn_vec_path, 'wb') as f_out:\n",
        "                shutil.copyfileobj(f_in, f_out)\n",
        "    else:\n",
        "        gn_vec_path = \"../Ch3/\" + gn_vec_path\n",
        "\n",
        "print(f\"Model at {gn_vec_path}\")"
      ],
      "metadata": {
        "colab": {
          "base_uri": "https://localhost:8080/"
        },
        "id": "-s2kQK-Br6TR",
        "outputId": "c67ef532-ea0c-45b6-bf12-e1adc5d19e0b"
      },
      "execution_count": null,
      "outputs": [
        {
          "output_type": "stream",
          "name": "stdout",
          "text": [
            "Model at GoogleNews-vectors-negative300.bin\n"
          ]
        }
      ]
    },
    {
      "cell_type": "markdown",
      "source": [],
      "metadata": {
        "id": "1UUp2zneuZOp"
      }
    },
    {
      "cell_type": "code",
      "source": [
        "import nltk\n",
        "nltk.download('averaged_perceptron_tagger')"
      ],
      "metadata": {
        "colab": {
          "base_uri": "https://localhost:8080/"
        },
        "id": "TIel2-twuZ6U",
        "outputId": "4d7ffafb-a43a-4cc4-eb09-1aa5705e959a"
      },
      "execution_count": null,
      "outputs": [
        {
          "output_type": "stream",
          "name": "stdout",
          "text": [
            "[nltk_data] Downloading package averaged_perceptron_tagger to\n",
            "[nltk_data]     /root/nltk_data...\n",
            "[nltk_data]   Unzipping taggers/averaged_perceptron_tagger.zip.\n"
          ]
        },
        {
          "output_type": "execute_result",
          "data": {
            "text/plain": [
              "True"
            ]
          },
          "metadata": {},
          "execution_count": 8
        }
      ]
    },
    {
      "cell_type": "code",
      "source": [
        "nltk.download('wordnet')"
      ],
      "metadata": {
        "colab": {
          "base_uri": "https://localhost:8080/"
        },
        "id": "Ml3kBypZujm9",
        "outputId": "67029c4a-9c13-44c4-8d01-be938ac248ce"
      },
      "execution_count": null,
      "outputs": [
        {
          "output_type": "stream",
          "name": "stdout",
          "text": [
            "[nltk_data] Downloading package wordnet to /root/nltk_data...\n",
            "[nltk_data]   Unzipping corpora/wordnet.zip.\n"
          ]
        },
        {
          "output_type": "execute_result",
          "data": {
            "text/plain": [
              "True"
            ]
          },
          "metadata": {},
          "execution_count": 9
        }
      ]
    },
    {
      "cell_type": "markdown",
      "source": [
        "MAKING CSVS"
      ],
      "metadata": {
        "id": "zR2oR4l3LVeh"
      }
    },
    {
      "cell_type": "code",
      "execution_count": null,
      "metadata": {
        "colab": {
          "base_uri": "https://localhost:8080/"
        },
        "id": "KpOQuHECLrff",
        "outputId": "c5d03eeb-02de-40cc-ee67-2091fcf34aa5"
      },
      "outputs": [
        {
          "output_type": "stream",
          "name": "stdout",
          "text": [
            "1 - subject1828.xml\n",
            "2 - subject4325.xml\n",
            "3 - subject8599.xml\n",
            "4 - subject1230.xml\n",
            "5 - subject8764.xml\n",
            "6 - subject5659.xml\n",
            "7 - subject6123.xml\n",
            "8 - subject4691.xml\n",
            "9 - subject8089.xml\n",
            "10 - subject73.xml\n",
            "11 - subject8312.xml\n",
            "12 - subject1298.xml\n",
            "13 - subject8617.xml\n",
            "14 - subject4288.xml\n",
            "15 - subject8863.xml\n",
            "16 - subject9761.xml\n",
            "17 - subject4021.xml\n",
            "18 - subject3463.xml\n",
            "19 - subject6817.xml\n",
            "20 - subject1922.xml\n",
            "21 - subject3600.xml\n",
            "22 - subject2963.xml\n",
            "23 - subject7003.xml\n",
            "24 - subject3.xml\n",
            "25 - subject1614.xml\n",
            "26 - subject3149.xml\n",
            "27 - subject5644.xml\n",
            "28 - subject6807.xml\n",
            "29 - subject3186.xml\n",
            "30 - subject9901.xml\n",
            "31 - subject7095.xml\n",
            "32 - subject5213.xml\n",
            "33 - subject1861.xml\n",
            "34 - subject1467.xml\n",
            "35 - subject8234.xml\n",
            "36 - subject8860.xml\n",
            "37 - subject9748.xml\n",
            "38 - subject1563.xml\n",
            "39 - subject1166.xml\n",
            "40 - subject8219.xml\n",
            "41 - subject547.xml\n",
            "42 - subject2574.xml\n",
            "43 - subject9273.xml\n",
            "44 - subject7930.xml\n",
            "45 - subject564.xml\n",
            "46 - subject1395.xml\n",
            "47 - subject4317.xml\n",
            "48 - subject3505.xml\n",
            "49 - subject2310.xml\n",
            "50 - subject9823.xml\n",
            "51 - subject4573.xml\n",
            "52 - subject6591.xml\n",
            "53 - subject9314.xml\n",
            "54 - subject6434.xml\n",
            "55 - subject4639.xml\n",
            "56 - subject3967.xml\n",
            "57 - subject9140.xml\n",
            "58 - subject5427.xml\n",
            "59 - subject9504.xml\n",
            "60 - subject2685.xml\n",
            "61 - subject4368.xml\n",
            "62 - subject7937.xml\n",
            "63 - subject5460.xml\n",
            "64 - subject1105.xml\n",
            "65 - subject4159.xml\n",
            "66 - subject7374.xml\n",
            "67 - subject2372.xml\n",
            "68 - subject9866.xml\n",
            "69 - subject9607.xml\n",
            "70 - subject886.xml\n",
            "71 - subject6861.xml\n",
            "72 - subject9647.xml\n",
            "73 - subject2330.xml\n",
            "74 - subject4131.xml\n",
            "75 - subject6768.xml\n",
            "76 - subject8487.xml\n",
            "77 - subject2626.xml\n",
            "78 - subject615.xml\n",
            "79 - subject3901.xml\n",
            "80 - subject9272.xml\n",
            "81 - subject2522.xml\n",
            "82 - subject8607.xml\n",
            "83 - subject250.xml\n",
            "84 - subject2846.xml\n",
            "85 - subject7431.xml\n",
            "86 - subject7282.xml\n",
            "87 - subject1708.xml\n",
            "88 - subject8335.xml\n",
            "89 - subject1439.xml\n",
            "90 - subject4987.xml\n",
            "91 - subject1383.xml\n",
            "92 - subject4153.xml\n",
            "93 - subject8314.xml\n",
            "94 - subject8713.xml\n",
            "95 - subject2778.xml\n",
            "96 - subject4440.xml\n",
            "97 - subject4242.xml\n",
            "98 - subject5156.xml\n",
            "99 - subject5484.xml\n",
            "100 - subject8266.xml\n",
            "101 - subject8211.xml\n",
            "102 - subject9914.xml\n",
            "103 - subject1722.xml\n",
            "104 - subject6579.xml\n",
            "105 - subject1055.xml\n",
            "106 - subject9486.xml\n",
            "107 - subject3798.xml\n",
            "108 - subject9815.xml\n",
            "109 - subject3000.xml\n",
            "110 - subject6230.xml\n",
            "111 - subject4858.xml\n",
            "112 - subject4167.xml\n",
            "113 - subject388.xml\n",
            "114 - subject4864.xml\n",
            "115 - subject7778.xml\n",
            "116 - subject845.xml\n",
            "117 - subject6842.xml\n",
            "118 - subject6796.xml\n",
            "119 - subject3902.xml\n",
            "120 - subject7533.xml\n",
            "121 - subject3219.xml\n",
            "122 - subject9685.xml\n",
            "123 - subject4827.xml\n",
            "124 - subject9061.xml\n",
            "125 - subject4785.xml\n",
            "126 - subject9691.xml\n",
            "127 - subject121.xml\n",
            "128 - subject4404.xml\n",
            "129 - subject2930.xml\n",
            "130 - subject5873.xml\n",
            "131 - subject4846.xml\n",
            "132 - subject893.xml\n",
            "133 - subject7517.xml\n",
            "134 - subject8351.xml\n",
            "135 - subject109.xml\n",
            "136 - subject4115.xml\n",
            "137 - subject9526.xml\n",
            "138 - subject2069.xml\n",
            "139 - subject439.xml\n",
            "140 - subject2044.xml\n",
            "141 - subject5027.xml\n",
            "142 - subject2737.xml\n",
            "143 - subject4673.xml\n",
            "144 - subject4489.xml\n",
            "145 - subject6801.xml\n",
            "146 - subject3447.xml\n",
            "147 - subject4211.xml\n",
            "148 - subject8455.xml\n",
            "149 - subject9132.xml\n",
            "150 - subject9280.xml\n",
            "151 - subject1178.xml\n",
            "152 - subject9124.xml\n",
            "153 - subject514.xml\n",
            "154 - subject141.xml\n",
            "155 - subject2724.xml\n",
            "156 - subject6502.xml\n",
            "157 - subject8515.xml\n",
            "158 - subject436.xml\n",
            "159 - subject8588.xml\n",
            "160 - subject3826.xml\n",
            "161 - subject5227.xml\n",
            "162 - subject4399.xml\n",
            "163 - subject3244.xml\n",
            "164 - subject1841.xml\n",
            "165 - subject4888.xml\n",
            "166 - subject9239.xml\n",
            "167 - subject9013.xml\n",
            "168 - subject6959.xml\n",
            "169 - subject5831.xml\n",
            "170 - subject9801.xml\n",
            "171 - subject1044.xml\n",
            "172 - subject5054.xml\n",
            "173 - subject901.xml\n",
            "174 - subject6420.xml\n",
            "175 - subject8557.xml\n",
            "176 - subject2668.xml\n",
            "177 - subject9655.xml\n",
            "178 - subject3293.xml\n",
            "179 - subject5350.xml\n",
            "180 - subject6262.xml\n",
            "181 - subject331.xml\n",
            "182 - subject8814.xml\n",
            "183 - subject1610.xml\n",
            "184 - subject3180.xml\n",
            "185 - subject573.xml\n",
            "186 - subject9401.xml\n",
            "187 - subject4116.xml\n",
            "188 - subject8131.xml\n",
            "189 - subject4721.xml\n",
            "190 - subject9525.xml\n",
            "191 - subject9044.xml\n",
            "192 - subject8367.xml\n",
            "193 - subject5053.xml\n",
            "194 - subject2316.xml\n",
            "195 - subject4083.xml\n",
            "196 - subject9534.xml\n",
            "197 - subject9850.xml\n",
            "198 - subject8546.xml\n",
            "199 - subject9502.xml\n",
            "200 - subject9958.xml\n",
            "201 - subject974.xml\n",
            "202 - subject5255.xml\n",
            "203 - subject9885.xml\n",
            "204 - subject6431.xml\n",
            "205 - subject873.xml\n",
            "206 - subject16.xml\n",
            "207 - subject1780.xml\n",
            "208 - subject751.xml\n",
            "209 - subject8068.xml\n",
            "210 - subject6539.xml\n",
            "211 - subject5171.xml\n",
            "212 - subject8625.xml\n",
            "213 - subject6920.xml\n",
            "214 - subject2408.xml\n",
            "215 - subject7418.xml\n",
            "216 - subject72.xml\n",
            "217 - subject35.xml\n",
            "218 - subject4978.xml\n",
            "219 - subject6186.xml\n",
            "220 - subject6196.xml\n",
            "221 - subject4427.xml\n",
            "222 - subject2423.xml\n",
            "223 - subject5161.xml\n",
            "224 - subject8635.xml\n",
            "225 - subject9438.xml\n",
            "226 - subject5077.xml\n",
            "227 - subject4737.xml\n",
            "228 - subject9832.xml\n",
            "229 - subject5389.xml\n",
            "230 - subject2022.xml\n",
            "231 - subject915.xml\n",
            "232 - subject5127.xml\n",
            "233 - subject9245.xml\n",
            "234 - subject4692.xml\n",
            "235 - subject3591.xml\n",
            "236 - subject971.xml\n",
            "237 - subject8307.xml\n",
            "238 - subject9403.xml\n",
            "239 - subject2692.xml\n",
            "240 - subject1871.xml\n",
            "241 - subject1459.xml\n",
            "242 - subject1790.xml\n",
            "243 - subject2667.xml\n",
            "244 - subject977.xml\n",
            "245 - subject7288.xml\n",
            "246 - subject4227.xml\n",
            "247 - subject6430.xml\n",
            "248 - subject1493.xml\n",
            "249 - subject4287.xml\n",
            "250 - subject4450.xml\n",
            "251 - subject2045.xml\n",
            "252 - subject6654.xml\n",
            "253 - subject9822.xml\n",
            "254 - subject2587.xml\n",
            "255 - subject2632.xml\n",
            "256 - subject4698.xml\n",
            "257 - subject4635.xml\n",
            "258 - subject7988.xml\n",
            "259 - subject2260.xml\n",
            "260 - subject8851.xml\n",
            "261 - subject4589.xml\n",
            "262 - subject6586.xml\n",
            "263 - subject181.xml\n",
            "264 - subject4028.xml\n",
            "265 - subject7749.xml\n",
            "266 - subject8724.xml\n",
            "267 - subject4170.xml\n",
            "268 - subject8993.xml\n",
            "269 - subject6932.xml\n",
            "270 - subject8373.xml\n",
            "271 - subject6129.xml\n",
            "272 - subject6734.xml\n",
            "273 - subject3501.xml\n",
            "274 - subject2599.xml\n",
            "275 - subject3492.xml\n",
            "276 - subject9880.xml\n",
            "277 - subject3775.xml\n",
            "278 - subject7195.xml\n",
            "279 - subject4845.xml\n",
            "280 - subject404.xml\n",
            "281 - subject2258.xml\n",
            "282 - subject3042.xml\n",
            "283 - subject4269.xml\n",
            "284 - subject6464.xml\n",
            "285 - subject1935.xml\n",
            "286 - subject6534.xml\n",
            "287 - subject8735.xml\n",
            "288 - subject4090.xml\n",
            "289 - subject5666.xml\n",
            "290 - subject1121.xml\n",
            "291 - subject921.xml\n",
            "292 - subject4342.xml\n",
            "293 - subject8736.xml\n",
            "294 - subject9117.xml\n",
            "295 - subject7609.xml\n",
            "296 - subject9959.xml\n",
            "297 - subject1258.xml\n",
            "298 - subject7831.xml\n",
            "299 - subject251.xml\n",
            "300 - subject5719.xml\n",
            "301 - subject3404.xml\n",
            "302 - subject4351.xml\n",
            "303 - subject7428.xml\n",
            "304 - subject836.xml\n",
            "305 - subject7582.xml\n",
            "306 - subject6396.xml\n",
            "307 - subject7984.xml\n",
            "308 - subject6749.xml\n",
            "309 - subject723.xml\n",
            "310 - subject5179.xml\n",
            "311 - subject3460.xml\n",
            "312 - subject8369.xml\n",
            "313 - subject2549.xml\n",
            "314 - subject254.xml\n",
            "315 - subject7046.xml\n",
            "316 - subject2165.xml\n",
            "317 - subject7081.xml\n",
            "318 - subject5819.xml\n",
            "319 - subject9664.xml\n",
            "320 - subject2004.xml\n",
            "321 - subject190.xml\n",
            "322 - subject1821.xml\n",
            "323 - subject8579.xml\n",
            "324 - subject9189.xml\n",
            "325 - subject3989.xml\n",
            "326 - subject5443.xml\n",
            "327 - subject3045.xml\n",
            "328 - subject1380.xml\n",
            "329 - subject6120.xml\n",
            "330 - subject7026.xml\n",
            "331 - subject6651.xml\n",
            "332 - subject7742.xml\n",
            "333 - subject6524.xml\n",
            "334 - subject4772.xml\n",
            "335 - subject1628.xml\n",
            "336 - subject3805.xml\n",
            "337 - subject3856.xml\n",
            "338 - subject2154.xml\n",
            "339 - subject1346.xml\n",
            "340 - subject4963.xml\n",
            "341 - subject2274.xml\n",
            "342 - subject2418.xml\n",
            "343 - subject6966.xml\n",
            "344 - subject1245.xml\n",
            "345 - subject7297.xml\n",
            "346 - subject7391.xml\n",
            "347 - subject1010.xml\n",
            "348 - subject6969.xml\n",
            "349 - subject7811.xml\n",
            "350 - subject2440.xml\n",
            "351 - subject5311.xml\n",
            "352 - subject4418.xml\n",
            "353 - subject2928.xml\n",
            "354 - subject5839.xml\n",
            "355 - subject1856.xml\n",
            "356 - subject5832.xml\n",
            "357 - subject2213.xml\n",
            "358 - subject170.xml\n",
            "359 - subject7048.xml\n",
            "360 - subject6310.xml\n",
            "361 - subject2723.xml\n",
            "362 - subject7167.xml\n",
            "363 - subject3861.xml\n",
            "364 - subject9949.xml\n",
            "365 - subject695.xml\n",
            "366 - subject1432.xml\n",
            "367 - subject3157.xml\n",
            "368 - subject2116.xml\n",
            "369 - subject822.xml\n",
            "370 - subject5518.xml\n",
            "371 - subject8510.xml\n",
            "372 - subject3445.xml\n",
            "373 - subject858.xml\n",
            "374 - subject670.xml\n",
            "375 - subject6283.xml\n",
            "376 - subject5574.xml\n",
            "377 - subject2037.xml\n",
            "378 - subject2951.xml\n",
            "379 - subject8710.xml\n",
            "380 - subject2733.xml\n",
            "381 - subject2796.xml\n",
            "382 - subject2521.xml\n",
            "383 - subject2561.xml\n",
            "384 - subject1402.xml\n",
            "385 - subject2607.xml\n",
            "386 - subject7451.xml\n",
            "387 - subject3260.xml\n",
            "388 - subject2991.xml\n",
            "389 - subject2957.xml\n",
            "390 - subject7881.xml\n",
            "391 - subject4136.xml\n",
            "392 - subject855.xml\n",
            "393 - subject3715.xml\n",
            "394 - subject5803.xml\n",
            "395 - subject6257.xml\n",
            "396 - subject4121.xml\n",
            "397 - subject3387.xml\n",
            "398 - subject7779.xml\n",
            "399 - subject5571.xml\n",
            "400 - subject6437.xml\n",
            "401 - subject6580.xml\n",
            "402 - subject7521.xml\n",
            "403 - subject8135.xml\n",
            "404 - subject6752.xml\n",
            "405 - subject2609.xml\n",
            "406 - subject7666.xml\n",
            "407 - subject7153.xml\n",
            "408 - subject8479.xml\n",
            "409 - subject3599.xml\n",
            "410 - subject966.xml\n",
            "411 - subject7901.xml\n",
            "412 - subject6942.xml\n",
            "413 - subject3508.xml\n",
            "414 - subject3080.xml\n",
            "415 - subject6166.xml\n",
            "416 - subject3903.xml\n",
            "417 - subject7338.xml\n",
            "418 - subject460.xml\n",
            "419 - subject8128.xml\n",
            "420 - subject5987.xml\n",
            "421 - subject7383.xml\n",
            "422 - subject3931.xml\n",
            "423 - subject8824.xml\n",
            "424 - subject8397.xml\n",
            "425 - subject6703.xml\n",
            "426 - subject398.xml\n",
            "427 - subject9720.xml\n",
            "428 - subject4819.xml\n",
            "429 - subject1153.xml\n",
            "430 - subject41.xml\n",
            "431 - subject7346.xml\n",
            "432 - subject1409.xml\n",
            "433 - subject4909.xml\n",
            "434 - subject1811.xml\n",
            "435 - subject5070.xml\n",
            "436 - subject7761.xml\n",
            "437 - subject5372.xml\n",
            "438 - subject7165.xml\n",
            "439 - subject9714.xml\n",
            "440 - subject7746.xml\n",
            "441 - subject6914.xml\n",
            "442 - subject348.xml\n",
            "443 - subject8253.xml\n",
            "444 - subject4299.xml\n",
            "445 - subject4297.xml\n",
            "446 - subject4382.xml\n",
            "447 - subject4657.xml\n",
            "448 - subject4996.xml\n",
            "449 - subject2622.xml\n",
            "450 - subject1668.xml\n",
            "451 - subject7056.xml\n",
            "452 - subject4921.xml\n",
            "453 - subject7316.xml\n",
            "454 - subject7467.xml\n",
            "455 - subject1702.xml\n",
            "456 - subject9587.xml\n",
            "457 - subject6069.xml\n",
            "458 - subject610.xml\n",
            "459 - subject4995.xml\n",
            "460 - subject1966.xml\n",
            "461 - subject8631.xml\n",
            "462 - subject3726.xml\n",
            "463 - subject4616.xml\n",
            "464 - subject9615.xml\n",
            "465 - subject82.xml\n",
            "466 - subject405.xml\n",
            "467 - subject5556.xml\n",
            "468 - subject5890.xml\n",
            "469 - subject9582.xml\n",
            "470 - subject9038.xml\n",
            "471 - subject943.xml\n",
            "472 - subject494.xml\n",
            "473 - subject2094.xml\n",
            "474 - subject5188.xml\n",
            "475 - subject2223.xml\n",
            "476 - subject5882.xml\n",
            "477 - subject3700.xml\n",
            "478 - subject7398.xml\n",
            "479 - subject8145.xml\n",
            "480 - subject7495.xml\n",
            "481 - subject9678.xml\n",
            "482 - subject185.xml\n",
            "483 - subject9341.xml\n",
            "484 - subject5859.xml\n",
            "485 - subject318.xml\n",
            "486 - subject6930.xml\n",
            "487 - subject2315.xml\n",
            "488 - subject6638.xml\n",
            "489 - subject4019.xml\n",
            "490 - subject9746.xml\n",
            "491 - subject6412.xml\n",
            "492 - subject5499.xml\n",
            "493 - subject6388.xml\n",
            "494 - subject8754.xml\n",
            "495 - subject1535.xml\n",
            "496 - subject5867.xml\n",
            "497 - subject4323.xml\n",
            "498 - subject8931.xml\n",
            "499 - subject9051.xml\n",
            "500 - subject414.xml\n",
            "501 - subject61.xml\n",
            "502 - subject9548.xml\n",
            "503 - subject5112.xml\n",
            "504 - subject4125.xml\n",
            "505 - subject1970.xml\n",
            "506 - subject4934.xml\n",
            "507 - subject4868.xml\n",
            "508 - subject8628.xml\n",
            "509 - subject1425.xml\n",
            "510 - subject4900.xml\n",
            "511 - subject5786.xml\n",
            "512 - subject7911.xml\n",
            "513 - subject2151.xml\n",
            "514 - subject4010.xml\n",
            "515 - subject3078.xml\n",
            "516 - subject4566.xml\n",
            "517 - subject3921.xml\n",
            "518 - subject1320.xml\n",
            "519 - subject130.xml\n",
            "520 - subject7377.xml\n",
            "521 - subject1093.xml\n",
            "522 - subject9667.xml\n",
            "523 - subject3424.xml\n",
            "524 - subject8496.xml\n",
            "525 - subject2000.xml\n",
            "526 - subject9554.xml\n",
            "527 - subject7184.xml\n",
            "528 - subject7785.xml\n",
            "529 - subject2851.xml\n",
            "530 - subject2394.xml\n",
            "531 - subject5301.xml\n",
            "532 - subject1580.xml\n",
            "533 - subject9740.xml\n",
            "534 - subject5081.xml\n",
            "535 - subject2527.xml\n",
            "536 - subject3863.xml\n",
            "537 - subject5813.xml\n",
            "538 - subject3285.xml\n",
            "539 - subject4797.xml\n",
            "540 - subject2699.xml\n",
            "541 - subject323.xml\n",
            "542 - subject3401.xml\n",
            "543 - subject4613.xml\n",
            "544 - subject4293.xml\n",
            "545 - subject4332.xml\n",
            "546 - subject1510.xml\n",
            "547 - subject4521.xml\n",
            "548 - subject4276.xml\n",
            "549 - subject6292.xml\n",
            "550 - subject5401.xml\n",
            "551 - subject1847.xml\n",
            "552 - subject3674.xml\n",
            "553 - subject8985.xml\n",
            "554 - subject5769.xml\n",
            "555 - subject9680.xml\n",
            "556 - subject6931.xml\n",
            "557 - subject2562.xml\n",
            "558 - subject763.xml\n",
            "559 - subject268.xml\n",
            "560 - subject4129.xml\n",
            "561 - subject2313.xml\n",
            "562 - subject624.xml\n",
            "563 - subject5181.xml\n",
            "564 - subject9259.xml\n",
            "565 - subject1779.xml\n",
            "566 - subject4742.xml\n",
            "567 - subject5834.xml\n",
            "568 - subject4830.xml\n",
            "569 - subject1073.xml\n",
            "570 - subject9409.xml\n",
            "571 - subject2030.xml\n",
            "572 - subject7982.xml\n",
            "573 - subject2820.xml\n",
            "574 - subject4533.xml\n",
            "575 - subject6044.xml\n",
            "576 - subject2635.xml\n",
            "577 - subject3972.xml\n",
            "578 - subject8902.xml\n",
            "579 - subject7211.xml\n",
            "580 - subject8940.xml\n",
            "581 - subject7661.xml\n",
            "582 - subject4592.xml\n",
            "583 - subject5743.xml\n",
            "584 - subject8180.xml\n",
            "585 - subject7496.xml\n",
            "586 - subject757.xml\n",
            "587 - subject9707.xml\n",
            "588 - subject4988.xml\n",
            "589 - subject3490.xml\n",
            "590 - subject4585.xml\n",
            "591 - subject6512.xml\n",
            "592 - subject9233.xml\n",
            "593 - subject7139.xml\n",
            "594 - subject713.xml\n",
            "595 - subject9437.xml\n",
            "596 - subject8379.xml\n",
            "597 - subject278.xml\n",
            "598 - subject7382.xml\n",
            "599 - subject5154.xml\n",
            "600 - subject7806.xml\n",
            "601 - subject9425.xml\n",
            "602 - subject2122.xml\n",
            "603 - subject4811.xml\n",
            "604 - subject8651.xml\n",
            "605 - subject9284.xml\n",
            "606 - subject5773.xml\n",
            "607 - subject6666.xml\n",
            "608 - subject5238.xml\n",
            "609 - subject6298.xml\n",
            "610 - subject792.xml\n",
            "611 - subject3433.xml\n",
            "612 - subject7030.xml\n",
            "613 - subject6906.xml\n",
            "614 - subject5504.xml\n",
            "615 - subject4584.xml\n",
            "616 - subject6750.xml\n",
            "617 - subject4228.xml\n",
            "618 - subject7132.xml\n",
            "619 - subject7923.xml\n",
            "620 - subject7478.xml\n",
            "621 - subject9877.xml\n",
            "622 - subject6973.xml\n",
            "623 - subject1584.xml\n",
            "624 - subject2140.xml\n",
            "625 - subject3443.xml\n",
            "626 - subject8725.xml\n",
            "627 - subject374.xml\n",
            "628 - subject8214.xml\n",
            "629 - subject9557.xml\n",
            "630 - subject2956.xml\n",
            "631 - subject8732.xml\n",
            "632 - subject2331.xml\n",
            "633 - subject1503.xml\n",
            "634 - subject5760.xml\n",
            "635 - subject7993.xml\n",
            "636 - subject3154.xml\n",
            "637 - subject6922.xml\n",
            "638 - subject1338.xml\n",
            "639 - subject9553.xml\n",
            "640 - subject8746.xml\n",
            "641 - subject155.xml\n",
            "642 - subject1156.xml\n",
            "643 - subject740.xml\n",
            "644 - subject7032.xml\n",
            "645 - subject8719.xml\n",
            "646 - subject1015.xml\n",
            "647 - subject2443.xml\n",
            "648 - subject7127.xml\n",
            "649 - subject7800.xml\n",
            "650 - subject6563.xml\n",
            "651 - subject2800.xml\n",
            "652 - subject7877.xml\n",
            "653 - subject5136.xml\n",
            "654 - subject1441.xml\n",
            "655 - subject7087.xml\n",
            "656 - subject6243.xml\n",
            "657 - subject3642.xml\n",
            "658 - subject3391.xml\n",
            "659 - subject9585.xml\n",
            "660 - subject4369.xml\n",
            "661 - subject7826.xml\n",
            "662 - subject7913.xml\n",
            "663 - subject6720.xml\n",
            "664 - subject4189.xml\n",
            "665 - subject2697.xml\n",
            "666 - subject5797.xml\n",
            "667 - subject5587.xml\n",
            "668 - subject4941.xml\n",
            "669 - subject8473.xml\n",
            "670 - subject3122.xml\n",
            "671 - subject1450.xml\n",
            "672 - subject1351.xml\n",
            "673 - subject4647.xml\n",
            "674 - subject2952.xml\n",
            "675 - subject8641.xml\n",
            "676 - subject7608.xml\n",
            "677 - subject965.xml\n",
            "678 - subject5968.xml\n",
            "679 - subject4640.xml\n",
            "680 - subject2252.xml\n",
            "681 - subject4091.xml\n",
            "682 - subject6816.xml\n",
            "683 - subject2924.xml\n",
            "684 - subject1203.xml\n",
            "685 - subject9776.xml\n",
            "686 - subject7624.xml\n",
            "687 - subject8423.xml\n",
            "688 - subject4564.xml\n",
            "689 - subject754.xml\n",
            "690 - subject2082.xml\n",
            "691 - subject8120.xml\n",
            "692 - subject1145.xml\n",
            "693 - subject7498.xml\n",
            "694 - subject686.xml\n",
            "695 - subject4354.xml\n",
            "696 - subject7348.xml\n",
            "697 - subject342.xml\n",
            "698 - subject276.xml\n",
            "699 - subject5073.xml\n",
            "700 - subject4049.xml\n",
            "701 - subject9931.xml\n",
            "702 - subject1294.xml\n",
            "703 - subject4667.xml\n",
            "704 - subject8366.xml\n",
            "705 - subject5074.xml\n",
            "706 - subject8830.xml\n",
            "707 - subject9825.xml\n",
            "708 - subject4860.xml\n",
            "709 - subject4979.xml\n",
            "710 - subject8452.xml\n",
            "711 - subject9366.xml\n",
            "712 - subject7781.xml\n",
            "713 - subject9073.xml\n",
            "714 - subject8878.xml\n",
            "715 - subject3262.xml\n",
            "716 - subject7956.xml\n",
            "717 - subject9012.xml\n",
            "718 - subject3471.xml\n",
            "719 - subject6970.xml\n",
            "720 - subject6570.xml\n",
            "721 - subject4485.xml\n",
            "722 - subject9619.xml\n",
            "723 - subject3588.xml\n",
            "724 - subject2323.xml\n",
            "725 - subject2732.xml\n",
            "726 - subject9440.xml\n",
            "727 - subject5471.xml\n",
            "728 - subject2868.xml\n",
            "729 - subject7843.xml\n",
            "730 - subject7419.xml\n",
            "731 - subject3073.xml\n",
            "732 - subject9704.xml\n",
            "733 - subject5149.xml\n",
            "734 - subject7340.xml\n",
            "735 - subject516.xml\n",
            "736 - subject3437.xml\n",
            "737 - subject8560.xml\n",
            "738 - subject3202.xml\n",
            "739 - subject9926.xml\n",
            "740 - subject7578.xml\n",
            "741 - subject1236.xml\n",
            "742 - subject6163.xml\n",
            "743 - subject6782.xml\n",
            "744 - subject3414.xml\n",
            "745 - subject1334.xml\n",
            "746 - subject5802.xml\n",
            "747 - subject1410.xml\n",
            "748 - subject5756.xml\n",
            "749 - subject1963.xml\n",
            "750 - subject3307.xml\n",
            "751 - subject525.xml\n",
            "752 - subject3355.xml\n",
            "753 - subject577.xml\n",
            "754 - subject8593.xml\n",
            "755 - subject7254.xml\n",
            "756 - subject7770.xml\n",
            "757 - subject7891.xml\n",
            "758 - subject1257.xml\n",
            "759 - subject4538.xml\n",
            "760 - subject8864.xml\n",
            "761 - subject6926.xml\n",
            "762 - subject4602.xml\n",
            "763 - subject4306.xml\n",
            "764 - subject3268.xml\n",
            "765 - subject1486.xml\n",
            "766 - subject721.xml\n",
            "767 - subject6928.xml\n",
            "768 - subject5591.xml\n",
            "769 - subject188.xml\n",
            "770 - subject419.xml\n",
            "771 - subject5492.xml\n",
            "772 - subject4680.xml\n",
            "773 - subject8884.xml\n",
            "774 - subject9932.xml\n",
            "775 - subject7471.xml\n",
            "776 - subject513.xml\n",
            "777 - subject9767.xml\n",
            "778 - subject2779.xml\n",
            "779 - subject6945.xml\n",
            "780 - subject4908.xml\n",
            "781 - subject832.xml\n",
            "782 - subject9743.xml\n",
            "783 - subject7051.xml\n",
            "784 - subject3287.xml\n",
            "785 - subject9139.xml\n",
            "786 - subject2163.xml\n",
            "787 - subject7668.xml\n",
            "788 - subject983.xml\n",
            "789 - subject9951.xml\n",
            "790 - subject5554.xml\n",
            "791 - subject8477.xml\n",
            "792 - subject4454.xml\n",
            "793 - subject3041.xml\n",
            "794 - subject4719.xml\n",
            "795 - subject3126.xml\n",
            "796 - subject2714.xml\n",
            "797 - subject4054.xml\n",
            "798 - subject998.xml\n",
            "799 - subject6469.xml\n",
            "800 - subject333.xml\n",
            "801 - subject8398.xml\n",
            "802 - subject4555.xml\n",
            "803 - subject8925.xml\n",
            "804 - subject2743.xml\n",
            "805 - subject3136.xml\n",
            "806 - subject3257.xml\n",
            "807 - subject4516.xml\n",
            "808 - subject136.xml\n",
            "809 - subject7426.xml\n",
            "810 - subject5580.xml\n",
            "811 - subject2866.xml\n",
            "812 - subject9063.xml\n",
            "813 - subject5235.xml\n",
            "814 - subject8542.xml\n",
            "815 - subject2433.xml\n",
            "816 - subject7397.xml\n",
            "817 - subject8653.xml\n",
            "818 - subject1260.xml\n",
            "819 - subject582.xml\n",
            "820 - subject527.xml\n"
          ]
        }
      ],
      "source": [
        "from xml.etree import cElementTree as ET\n",
        "import csv\n",
        "\n",
        "dir= \"training_t2/TRAINING_DATA/2018_cases\"\n",
        "\n",
        "cols = [\"Text\",\"Label\"]\n",
        "\n",
        "# negcount = 0\n",
        "\n",
        "with open('noaug_new.csv', 'a') as f:\n",
        "    write = csv.writer(f)\n",
        "    # write.writerow(cols)\n",
        "\n",
        "    count = 0\n",
        "    for root, dirs, files in os.walk(dir):\n",
        "      for className in dirs:\n",
        "        for myfile in os.listdir(dir+'/'+className+'/') :\n",
        "          count+=1\n",
        "          print(str(count)+\" - \"+myfile)\n",
        "          with open(dir+'/'+className+'/' + myfile , 'r') as file:\n",
        "            data = file.read()\n",
        "\n",
        "          root = ET.fromstring(data)\n",
        "          i=0\n",
        "\n",
        "          for writing in list(root):\n",
        "            posts=[]\n",
        "            if i==0:\n",
        "              i+=1\n",
        "              continue\n",
        "\n",
        "            text = writing.find('TEXT').text\n",
        "            if(text.isspace()):\n",
        "              continue\n",
        "            text = text.lower()\n",
        "            text = remove_html(text)\n",
        "            text = convert_emoticons(text)\n",
        "            text = remove_urls(text)\n",
        "            text = remove_specialchar_numbers(text)\n",
        "            text_split = text.split()\n",
        "            if(len(text_split)==0):\n",
        "              continue\n",
        "\n",
        "            if(len(text_split)>100):\n",
        "              text_split_2=[text_split[i:i + 100] for i in range(0, len(text_split), 100)]\n",
        "              if className==\"neg\":\n",
        "                negcount+=len(text_split_2)\n",
        "              for post in text_split_2:\n",
        "                posts.append(\" \".join(post))\n",
        "            else:\n",
        "              if className == \"pos\":\n",
        "                posts.append(text)\n",
        "              elif(negcount<200000):\n",
        "                posts.append(text)\n",
        "                negcount+=1\n",
        "\n",
        "            # if className == \"pos\":\n",
        "            #  if (len(text_split)) >=10 :\n",
        "            #    augmented = aug.augment(text, n=2)\n",
        "            #    for augmented_t in augmented:\n",
        "            #      posts.append(augmented_t)\n",
        "\n",
        "            rows=[]\n",
        "            for i in posts :\n",
        "              rows.append([i,className])\n",
        "\n",
        "            write.writerows(rows)"
      ]
    },
    {
      "cell_type": "code",
      "source": [],
      "metadata": {
        "id": "ngcaWUTaIvwJ"
      },
      "execution_count": null,
      "outputs": []
    },
    {
      "cell_type": "code",
      "source": [],
      "metadata": {
        "id": "lNh811OGlZeT"
      },
      "execution_count": null,
      "outputs": []
    },
    {
      "cell_type": "code",
      "execution_count": null,
      "metadata": {
        "id": "WLaJlspV2ASq",
        "colab": {
          "base_uri": "https://localhost:8080/"
        },
        "outputId": "3bc5dd40-c41f-4393-ad22-2871ceb080a2"
      },
      "outputs": [
        {
          "output_type": "stream",
          "name": "stdout",
          "text": [
            "103306\n",
            "84505\n"
          ]
        }
      ],
      "source": [
        "import pandas as pd\n",
        "\n",
        "text = []\n",
        "labels = []\n",
        "\n",
        "\n",
        "dataset = pd.read_csv('output-2.csv')\n",
        "dataset = dataset[dataset['Text'].notna()]\n",
        "dataset = dataset[dataset['Label'].notna()]\n",
        "\n",
        "print(len(dataset[dataset[\"Label\"]==\"neg\"]))\n",
        "\n",
        "print(len(dataset[dataset[\"Label\"]==\"pos\"]))\n",
        "\n",
        "\n",
        "# for index, row in dataset.iterrows():\n",
        "#   text.append(str(row['Text']))\n",
        "#   labels.append(row['Label'])"
      ]
    },
    {
      "cell_type": "code",
      "source": [
        "neg 45665\n",
        "pos 46487"
      ],
      "metadata": {
        "id": "PvciLWCVUz3s"
      },
      "execution_count": null,
      "outputs": []
    },
    {
      "cell_type": "code",
      "source": [],
      "metadata": {
        "id": "1Isjs7I4JjiQ"
      },
      "execution_count": null,
      "outputs": []
    },
    {
      "cell_type": "code",
      "source": [
        "import pandas as pd\n",
        "\n",
        "dataset = pd.read_csv('output-3.csv')"
      ],
      "metadata": {
        "id": "EOkpnqbCJjkv"
      },
      "execution_count": null,
      "outputs": []
    },
    {
      "cell_type": "code",
      "source": [
        "len(dataset)\n",
        "\n"
      ],
      "metadata": {
        "colab": {
          "base_uri": "https://localhost:8080/"
        },
        "id": "cVXqaOORJjml",
        "outputId": "65b98f38-b9c9-4074-8e36-79bb97cc4c2f"
      },
      "execution_count": null,
      "outputs": [
        {
          "output_type": "execute_result",
          "data": {
            "text/plain": [
              "187811"
            ]
          },
          "metadata": {},
          "execution_count": 85
        }
      ]
    },
    {
      "cell_type": "code",
      "source": [
        "print(len(dataset[dataset['Label']==\"neg\"]))\n",
        "\n",
        "print(len(dataset[dataset['Label']==\"pos\"]))"
      ],
      "metadata": {
        "id": "p31sO1Q2HiBj",
        "outputId": "5d073715-beb1-4f69-8203-97e0da2d68fd",
        "colab": {
          "base_uri": "https://localhost:8080/"
        }
      },
      "execution_count": null,
      "outputs": [
        {
          "output_type": "stream",
          "name": "stdout",
          "text": [
            "103306\n",
            "84505\n"
          ]
        }
      ]
    },
    {
      "cell_type": "code",
      "source": [
        "dataset.head()"
      ],
      "metadata": {
        "colab": {
          "base_uri": "https://localhost:8080/",
          "height": 206
        },
        "id": "PjG3WF0kRC0M",
        "outputId": "140b057f-be5a-4c79-d899-9eb942f1294d"
      },
      "execution_count": null,
      "outputs": [
        {
          "output_type": "execute_result",
          "data": {
            "text/plain": [
              "                                                Text Label\n",
              "0  that s such an incredibly kind thing to say th...   pos\n",
              "1  that s such an incredibly kind thing to say th...   pos\n",
              "2  that s such an incredibly variety thing to say...   pos\n",
              "3                     thank you very much Happy face   pos\n",
              "4      thank you really much Happy facial expression   pos"
            ],
            "text/html": [
              "\n",
              "  <div id=\"df-9542a0b0-032e-41fd-97ac-8f91e47b0dfb\">\n",
              "    <div class=\"colab-df-container\">\n",
              "      <div>\n",
              "<style scoped>\n",
              "    .dataframe tbody tr th:only-of-type {\n",
              "        vertical-align: middle;\n",
              "    }\n",
              "\n",
              "    .dataframe tbody tr th {\n",
              "        vertical-align: top;\n",
              "    }\n",
              "\n",
              "    .dataframe thead th {\n",
              "        text-align: right;\n",
              "    }\n",
              "</style>\n",
              "<table border=\"1\" class=\"dataframe\">\n",
              "  <thead>\n",
              "    <tr style=\"text-align: right;\">\n",
              "      <th></th>\n",
              "      <th>Text</th>\n",
              "      <th>Label</th>\n",
              "    </tr>\n",
              "  </thead>\n",
              "  <tbody>\n",
              "    <tr>\n",
              "      <th>0</th>\n",
              "      <td>that s such an incredibly kind thing to say th...</td>\n",
              "      <td>pos</td>\n",
              "    </tr>\n",
              "    <tr>\n",
              "      <th>1</th>\n",
              "      <td>that s such an incredibly kind thing to say th...</td>\n",
              "      <td>pos</td>\n",
              "    </tr>\n",
              "    <tr>\n",
              "      <th>2</th>\n",
              "      <td>that s such an incredibly variety thing to say...</td>\n",
              "      <td>pos</td>\n",
              "    </tr>\n",
              "    <tr>\n",
              "      <th>3</th>\n",
              "      <td>thank you very much Happy face</td>\n",
              "      <td>pos</td>\n",
              "    </tr>\n",
              "    <tr>\n",
              "      <th>4</th>\n",
              "      <td>thank you really much Happy facial expression</td>\n",
              "      <td>pos</td>\n",
              "    </tr>\n",
              "  </tbody>\n",
              "</table>\n",
              "</div>\n",
              "      <button class=\"colab-df-convert\" onclick=\"convertToInteractive('df-9542a0b0-032e-41fd-97ac-8f91e47b0dfb')\"\n",
              "              title=\"Convert this dataframe to an interactive table.\"\n",
              "              style=\"display:none;\">\n",
              "        \n",
              "  <svg xmlns=\"http://www.w3.org/2000/svg\" height=\"24px\"viewBox=\"0 0 24 24\"\n",
              "       width=\"24px\">\n",
              "    <path d=\"M0 0h24v24H0V0z\" fill=\"none\"/>\n",
              "    <path d=\"M18.56 5.44l.94 2.06.94-2.06 2.06-.94-2.06-.94-.94-2.06-.94 2.06-2.06.94zm-11 1L8.5 8.5l.94-2.06 2.06-.94-2.06-.94L8.5 2.5l-.94 2.06-2.06.94zm10 10l.94 2.06.94-2.06 2.06-.94-2.06-.94-.94-2.06-.94 2.06-2.06.94z\"/><path d=\"M17.41 7.96l-1.37-1.37c-.4-.4-.92-.59-1.43-.59-.52 0-1.04.2-1.43.59L10.3 9.45l-7.72 7.72c-.78.78-.78 2.05 0 2.83L4 21.41c.39.39.9.59 1.41.59.51 0 1.02-.2 1.41-.59l7.78-7.78 2.81-2.81c.8-.78.8-2.07 0-2.86zM5.41 20L4 18.59l7.72-7.72 1.47 1.35L5.41 20z\"/>\n",
              "  </svg>\n",
              "      </button>\n",
              "      \n",
              "  <style>\n",
              "    .colab-df-container {\n",
              "      display:flex;\n",
              "      flex-wrap:wrap;\n",
              "      gap: 12px;\n",
              "    }\n",
              "\n",
              "    .colab-df-convert {\n",
              "      background-color: #E8F0FE;\n",
              "      border: none;\n",
              "      border-radius: 50%;\n",
              "      cursor: pointer;\n",
              "      display: none;\n",
              "      fill: #1967D2;\n",
              "      height: 32px;\n",
              "      padding: 0 0 0 0;\n",
              "      width: 32px;\n",
              "    }\n",
              "\n",
              "    .colab-df-convert:hover {\n",
              "      background-color: #E2EBFA;\n",
              "      box-shadow: 0px 1px 2px rgba(60, 64, 67, 0.3), 0px 1px 3px 1px rgba(60, 64, 67, 0.15);\n",
              "      fill: #174EA6;\n",
              "    }\n",
              "\n",
              "    [theme=dark] .colab-df-convert {\n",
              "      background-color: #3B4455;\n",
              "      fill: #D2E3FC;\n",
              "    }\n",
              "\n",
              "    [theme=dark] .colab-df-convert:hover {\n",
              "      background-color: #434B5C;\n",
              "      box-shadow: 0px 1px 3px 1px rgba(0, 0, 0, 0.15);\n",
              "      filter: drop-shadow(0px 1px 2px rgba(0, 0, 0, 0.3));\n",
              "      fill: #FFFFFF;\n",
              "    }\n",
              "  </style>\n",
              "\n",
              "      <script>\n",
              "        const buttonEl =\n",
              "          document.querySelector('#df-9542a0b0-032e-41fd-97ac-8f91e47b0dfb button.colab-df-convert');\n",
              "        buttonEl.style.display =\n",
              "          google.colab.kernel.accessAllowed ? 'block' : 'none';\n",
              "\n",
              "        async function convertToInteractive(key) {\n",
              "          const element = document.querySelector('#df-9542a0b0-032e-41fd-97ac-8f91e47b0dfb');\n",
              "          const dataTable =\n",
              "            await google.colab.kernel.invokeFunction('convertToInteractive',\n",
              "                                                     [key], {});\n",
              "          if (!dataTable) return;\n",
              "\n",
              "          const docLinkHtml = 'Like what you see? Visit the ' +\n",
              "            '<a target=\"_blank\" href=https://colab.research.google.com/notebooks/data_table.ipynb>data table notebook</a>'\n",
              "            + ' to learn more about interactive tables.';\n",
              "          element.innerHTML = '';\n",
              "          dataTable['output_type'] = 'display_data';\n",
              "          await google.colab.output.renderOutput(dataTable, element);\n",
              "          const docLink = document.createElement('div');\n",
              "          docLink.innerHTML = docLinkHtml;\n",
              "          element.appendChild(docLink);\n",
              "        }\n",
              "      </script>\n",
              "    </div>\n",
              "  </div>\n",
              "  "
            ]
          },
          "metadata": {},
          "execution_count": 22
        }
      ]
    },
    {
      "cell_type": "code",
      "source": [
        "count = 0\n",
        "label = 0\n",
        "\n",
        "for i in dataset[\"Text\"]:\n",
        "  if(len(i)<35):\n",
        "    count+=1\n",
        "    dataset[i][]"
      ],
      "metadata": {
        "id": "E-SXqrEtRGct"
      },
      "execution_count": null,
      "outputs": []
    },
    {
      "cell_type": "code",
      "source": [
        "count"
      ],
      "metadata": {
        "colab": {
          "base_uri": "https://localhost:8080/"
        },
        "id": "8155Ez83RSBd",
        "outputId": "b7b4f504-6c9c-4c60-f26a-72ce447babe4"
      },
      "execution_count": null,
      "outputs": [
        {
          "output_type": "execute_result",
          "data": {
            "text/plain": [
              "215723"
            ]
          },
          "metadata": {},
          "execution_count": 28
        }
      ]
    },
    {
      "cell_type": "code",
      "source": [
        "count"
      ],
      "metadata": {
        "colab": {
          "base_uri": "https://localhost:8080/"
        },
        "id": "lYbPas2cRS3d",
        "outputId": "50542bfc-4ec3-421b-bdfb-82d0a0eaac62"
      },
      "execution_count": null,
      "outputs": [
        {
          "output_type": "execute_result",
          "data": {
            "text/plain": [
              "182285"
            ]
          },
          "metadata": {},
          "execution_count": 26
        }
      ]
    },
    {
      "cell_type": "code",
      "source": [
        "dataset[\"Label\"].value_counts()"
      ],
      "metadata": {
        "colab": {
          "base_uri": "https://localhost:8080/"
        },
        "id": "73A0NO5sRYVd",
        "outputId": "bc28f704-5487-4076-e90d-822f76463062"
      },
      "execution_count": null,
      "outputs": [
        {
          "output_type": "execute_result",
          "data": {
            "text/plain": [
              "neg    805474\n",
              "pos    262336\n",
              "Name: Label, dtype: int64"
            ]
          },
          "metadata": {},
          "execution_count": 29
        }
      ]
    },
    {
      "cell_type": "code",
      "source": [
        "import pandas as pd\n",
        "dataset = pd.read_csv('noaug_new.csv')\n",
        "dataset = dataset[dataset['Text'].notna()]\n",
        "dataset = dataset[dataset['Label'].notna()]"
      ],
      "metadata": {
        "id": "HQHmSuif4Xn0"
      },
      "execution_count": null,
      "outputs": []
    },
    {
      "cell_type": "code",
      "source": [
        "aug = naw.SynonymAug(aug_src='wordnet',aug_max=20)"
      ],
      "metadata": {
        "id": "B5ZE19CP6dbl"
      },
      "execution_count": null,
      "outputs": []
    },
    {
      "cell_type": "code",
      "source": [
        "import csv\n",
        "cols = [\"Text\",\"Label\"]\n",
        "train_filename = \"aug_train_new.csv\"\n",
        "val_filename = \"aug_val_new.csv\"\n",
        "\n",
        "augmented_texts = []\n",
        "\n",
        "with open(train_filename, 'a') as csvfile1, open(val_filename, 'a') as csvfile2: \n",
        "    csvwriter1 = csv.writer(csvfile1)\n",
        "    csvwriter2 = csv.writer(csvfile2)\n",
        "    csvwriter1.writerow(cols)\n",
        "    csvwriter2.writerow(cols)\n",
        "\n",
        "    count_neg = 0\n",
        "    count_pos = 0\n",
        "\n",
        "    for index, row in dataset.iterrows():\n",
        "      s = row[\"Text\"]\n",
        "      l = row[\"Label\"]\n",
        "      if(l==\"neg\"):\n",
        "        if(count_neg<30000):\n",
        "          csvwriter2.writerow([s,l])\n",
        "          count_neg+=1\n",
        "        elif(count_neg<200000):\n",
        "          csvwriter1.writerow([s,l])\n",
        "          count_neg+=1\n",
        "      else:\n",
        "          if(count_pos<30000):\n",
        "            csvwriter2.writerow([s,l])\n",
        "            count_pos+=1\n",
        "          else:\n",
        "            csvwriter1.writerow([s,l])\n",
        "            count_pos+=1\n",
        "            if(len(s.split())>=10):\n",
        "              augmented_text = aug.augment(s,n=1)\n",
        "              csvwriter1.writerow([augmented_text,l])"
      ],
      "metadata": {
        "id": "Gf1qn04wR5ht"
      },
      "execution_count": null,
      "outputs": []
    },
    {
      "cell_type": "code",
      "source": [
        "dataset_x = pd.read_csv('aug_train_new.csv')\n",
        "dataset_x[\"Label\"].value_counts()"
      ],
      "metadata": {
        "colab": {
          "base_uri": "https://localhost:8080/"
        },
        "id": "8GyXEYLw0tha",
        "outputId": "e39e8eba-6136-4307-b32e-84ac62ad8a29"
      },
      "execution_count": null,
      "outputs": [
        {
          "output_type": "execute_result",
          "data": {
            "text/plain": [
              "neg    170000\n",
              "pos    115629\n",
              "Name: Label, dtype: int64"
            ]
          },
          "metadata": {},
          "execution_count": 21
        }
      ]
    },
    {
      "cell_type": "code",
      "source": [
        "dataset_x = pd.read_csv('actual_aug_train_new.csv')\n",
        "dataset_x[\"Label\"].value_counts()"
      ],
      "metadata": {
        "colab": {
          "base_uri": "https://localhost:8080/"
        },
        "id": "B0lgw9PGn04Z",
        "outputId": "3be00b3a-52f5-4fba-87a0-352c106479a3"
      },
      "execution_count": null,
      "outputs": [
        {
          "output_type": "execute_result",
          "data": {
            "text/plain": [
              "neg    170000\n",
              "pos    115629\n",
              "Name: Label, dtype: int64"
            ]
          },
          "metadata": {},
          "execution_count": 20
        }
      ]
    },
    {
      "cell_type": "code",
      "source": [
        "dataset_x = pd.read_csv('aug_val_new.csv')\n",
        "dataset_x[\"Label\"].value_counts()"
      ],
      "metadata": {
        "colab": {
          "base_uri": "https://localhost:8080/"
        },
        "id": "7jkeL7Ub7ZZS",
        "outputId": "30b3029f-0425-415a-bb98-1e636c5fce73"
      },
      "execution_count": null,
      "outputs": [
        {
          "output_type": "execute_result",
          "data": {
            "text/plain": [
              "pos    30000\n",
              "neg    30000\n",
              "Name: Label, dtype: int64"
            ]
          },
          "metadata": {},
          "execution_count": 18
        }
      ]
    },
    {
      "cell_type": "code",
      "source": [
        "import csv\n",
        "train_filename = 'aug_train_new.csv'\n",
        "\n",
        "with open(train_filename, 'a') as csvfile1: \n",
        "    csvwriter1 = csv.writer(csvfile1)\n",
        "    count_pos = 0\n",
        "\n",
        "    for index, row in dataset.iterrows():\n",
        "      s = row[\"Text\"]\n",
        "      l = row[\"Label\"]\n",
        "      if(l==\"pos\"):\n",
        "          if(count_pos<30000):\n",
        "            count_pos+=1\n",
        "          else:\n",
        "            count_pos+=1\n",
        "            slen = len(s.split())\n",
        "            if(slen>=10):\n",
        "              augmented_text = aug_glove.augment(s)\n",
        "              csvwriter1.writerow([augmented_text,l])"
      ],
      "metadata": {
        "id": "3Rxxoca6PX-v",
        "colab": {
          "base_uri": "https://localhost:8080/",
          "height": 415
        },
        "outputId": "e15736b3-c4e3-4a64-bf90-838e2b06570d"
      },
      "execution_count": null,
      "outputs": [
        {
          "output_type": "error",
          "ename": "KeyboardInterrupt",
          "evalue": "ignored",
          "traceback": [
            "\u001b[0;31m---------------------------------------------------------------------------\u001b[0m",
            "\u001b[0;31mKeyboardInterrupt\u001b[0m                         Traceback (most recent call last)",
            "\u001b[0;32m<ipython-input-24-b3909b37cb2c>\u001b[0m in \u001b[0;36m<module>\u001b[0;34m()\u001b[0m\n\u001b[1;32m     16\u001b[0m             \u001b[0mslen\u001b[0m \u001b[0;34m=\u001b[0m \u001b[0mlen\u001b[0m\u001b[0;34m(\u001b[0m\u001b[0ms\u001b[0m\u001b[0;34m.\u001b[0m\u001b[0msplit\u001b[0m\u001b[0;34m(\u001b[0m\u001b[0;34m)\u001b[0m\u001b[0;34m)\u001b[0m\u001b[0;34m\u001b[0m\u001b[0;34m\u001b[0m\u001b[0m\n\u001b[1;32m     17\u001b[0m             \u001b[0;32mif\u001b[0m\u001b[0;34m(\u001b[0m\u001b[0mslen\u001b[0m\u001b[0;34m>=\u001b[0m\u001b[0;36m10\u001b[0m\u001b[0;34m)\u001b[0m\u001b[0;34m:\u001b[0m\u001b[0;34m\u001b[0m\u001b[0;34m\u001b[0m\u001b[0m\n\u001b[0;32m---> 18\u001b[0;31m               \u001b[0maugmented_text\u001b[0m \u001b[0;34m=\u001b[0m \u001b[0maug_glove\u001b[0m\u001b[0;34m.\u001b[0m\u001b[0maugment\u001b[0m\u001b[0;34m(\u001b[0m\u001b[0ms\u001b[0m\u001b[0;34m)\u001b[0m\u001b[0;34m\u001b[0m\u001b[0;34m\u001b[0m\u001b[0m\n\u001b[0m\u001b[1;32m     19\u001b[0m               \u001b[0mcsvwriter1\u001b[0m\u001b[0;34m.\u001b[0m\u001b[0mwriterow\u001b[0m\u001b[0;34m(\u001b[0m\u001b[0;34m[\u001b[0m\u001b[0maugmented_text\u001b[0m\u001b[0;34m,\u001b[0m\u001b[0ml\u001b[0m\u001b[0;34m]\u001b[0m\u001b[0;34m)\u001b[0m\u001b[0;34m\u001b[0m\u001b[0;34m\u001b[0m\u001b[0m\n",
            "\u001b[0;32m/usr/local/lib/python3.7/dist-packages/nlpaug/base_augmenter.py\u001b[0m in \u001b[0;36maugment\u001b[0;34m(self, data, n, num_thread)\u001b[0m\n\u001b[1;32m    117\u001b[0m                 \u001b[0;31m# Single Thread\u001b[0m\u001b[0;34m\u001b[0m\u001b[0;34m\u001b[0m\u001b[0;34m\u001b[0m\u001b[0m\n\u001b[1;32m    118\u001b[0m                 \u001b[0;32mif\u001b[0m \u001b[0mnum_thread\u001b[0m \u001b[0;34m==\u001b[0m \u001b[0;36m1\u001b[0m\u001b[0;34m:\u001b[0m\u001b[0;34m\u001b[0m\u001b[0;34m\u001b[0m\u001b[0m\n\u001b[0;32m--> 119\u001b[0;31m                     \u001b[0maugmented_results\u001b[0m \u001b[0;34m=\u001b[0m \u001b[0;34m[\u001b[0m\u001b[0maction_fx\u001b[0m\u001b[0;34m(\u001b[0m\u001b[0mclean_data\u001b[0m\u001b[0;34m)\u001b[0m \u001b[0;32mfor\u001b[0m \u001b[0m_\u001b[0m \u001b[0;32min\u001b[0m \u001b[0mrange\u001b[0m\u001b[0;34m(\u001b[0m\u001b[0mn\u001b[0m\u001b[0;34m)\u001b[0m\u001b[0;34m]\u001b[0m\u001b[0;34m\u001b[0m\u001b[0;34m\u001b[0m\u001b[0m\n\u001b[0m\u001b[1;32m    120\u001b[0m \u001b[0;34m\u001b[0m\u001b[0m\n\u001b[1;32m    121\u001b[0m                 \u001b[0;31m# Multi Thread\u001b[0m\u001b[0;34m\u001b[0m\u001b[0;34m\u001b[0m\u001b[0;34m\u001b[0m\u001b[0m\n",
            "\u001b[0;32m/usr/local/lib/python3.7/dist-packages/nlpaug/base_augmenter.py\u001b[0m in \u001b[0;36m<listcomp>\u001b[0;34m(.0)\u001b[0m\n\u001b[1;32m    117\u001b[0m                 \u001b[0;31m# Single Thread\u001b[0m\u001b[0;34m\u001b[0m\u001b[0;34m\u001b[0m\u001b[0;34m\u001b[0m\u001b[0m\n\u001b[1;32m    118\u001b[0m                 \u001b[0;32mif\u001b[0m \u001b[0mnum_thread\u001b[0m \u001b[0;34m==\u001b[0m \u001b[0;36m1\u001b[0m\u001b[0;34m:\u001b[0m\u001b[0;34m\u001b[0m\u001b[0;34m\u001b[0m\u001b[0m\n\u001b[0;32m--> 119\u001b[0;31m                     \u001b[0maugmented_results\u001b[0m \u001b[0;34m=\u001b[0m \u001b[0;34m[\u001b[0m\u001b[0maction_fx\u001b[0m\u001b[0;34m(\u001b[0m\u001b[0mclean_data\u001b[0m\u001b[0;34m)\u001b[0m \u001b[0;32mfor\u001b[0m \u001b[0m_\u001b[0m \u001b[0;32min\u001b[0m \u001b[0mrange\u001b[0m\u001b[0;34m(\u001b[0m\u001b[0mn\u001b[0m\u001b[0;34m)\u001b[0m\u001b[0;34m]\u001b[0m\u001b[0;34m\u001b[0m\u001b[0;34m\u001b[0m\u001b[0m\n\u001b[0m\u001b[1;32m    120\u001b[0m \u001b[0;34m\u001b[0m\u001b[0m\n\u001b[1;32m    121\u001b[0m                 \u001b[0;31m# Multi Thread\u001b[0m\u001b[0;34m\u001b[0m\u001b[0;34m\u001b[0m\u001b[0;34m\u001b[0m\u001b[0m\n",
            "\u001b[0;32m/usr/local/lib/python3.7/dist-packages/nlpaug/augmenter/word/word_embs.py\u001b[0m in \u001b[0;36msubstitute\u001b[0;34m(self, data)\u001b[0m\n\u001b[1;32m    153\u001b[0m         \u001b[0;32mfor\u001b[0m \u001b[0maug_idx\u001b[0m \u001b[0;32min\u001b[0m \u001b[0maug_idxes\u001b[0m\u001b[0;34m:\u001b[0m\u001b[0;34m\u001b[0m\u001b[0;34m\u001b[0m\u001b[0m\n\u001b[1;32m    154\u001b[0m             \u001b[0moriginal_token\u001b[0m \u001b[0;34m=\u001b[0m \u001b[0mdoc\u001b[0m\u001b[0;34m.\u001b[0m\u001b[0mget_token\u001b[0m\u001b[0;34m(\u001b[0m\u001b[0maug_idx\u001b[0m\u001b[0;34m)\u001b[0m\u001b[0;34m.\u001b[0m\u001b[0mget_latest_token\u001b[0m\u001b[0;34m(\u001b[0m\u001b[0;34m)\u001b[0m\u001b[0;34m.\u001b[0m\u001b[0mtoken\u001b[0m\u001b[0;34m\u001b[0m\u001b[0;34m\u001b[0m\u001b[0m\n\u001b[0;32m--> 155\u001b[0;31m             \u001b[0mcandidate_tokens\u001b[0m \u001b[0;34m=\u001b[0m \u001b[0mself\u001b[0m\u001b[0;34m.\u001b[0m\u001b[0mmodel\u001b[0m\u001b[0;34m.\u001b[0m\u001b[0mpredict\u001b[0m\u001b[0;34m(\u001b[0m\u001b[0moriginal_token\u001b[0m\u001b[0;34m,\u001b[0m \u001b[0mn\u001b[0m\u001b[0;34m=\u001b[0m\u001b[0;36m1\u001b[0m\u001b[0;34m)\u001b[0m\u001b[0;34m\u001b[0m\u001b[0;34m\u001b[0m\u001b[0m\n\u001b[0m\u001b[1;32m    156\u001b[0m             \u001b[0msubstitute_token\u001b[0m \u001b[0;34m=\u001b[0m \u001b[0mself\u001b[0m\u001b[0;34m.\u001b[0m\u001b[0msample\u001b[0m\u001b[0;34m(\u001b[0m\u001b[0mcandidate_tokens\u001b[0m\u001b[0;34m,\u001b[0m \u001b[0;36m1\u001b[0m\u001b[0;34m)\u001b[0m\u001b[0;34m[\u001b[0m\u001b[0;36m0\u001b[0m\u001b[0;34m]\u001b[0m\u001b[0;34m\u001b[0m\u001b[0;34m\u001b[0m\u001b[0m\n\u001b[1;32m    157\u001b[0m             \u001b[0;32mif\u001b[0m \u001b[0maug_idx\u001b[0m \u001b[0;34m==\u001b[0m \u001b[0;36m0\u001b[0m\u001b[0;34m:\u001b[0m\u001b[0;34m\u001b[0m\u001b[0;34m\u001b[0m\u001b[0m\n",
            "\u001b[0;32m/usr/local/lib/python3.7/dist-packages/nlpaug/model/word_embs/word_embeddings.py\u001b[0m in \u001b[0;36mpredict\u001b[0;34m(self, word, n)\u001b[0m\n\u001b[1;32m     34\u001b[0m \u001b[0;34m\u001b[0m\u001b[0m\n\u001b[1;32m     35\u001b[0m     \u001b[0;32mdef\u001b[0m \u001b[0mpredict\u001b[0m\u001b[0;34m(\u001b[0m\u001b[0mself\u001b[0m\u001b[0;34m,\u001b[0m \u001b[0mword\u001b[0m\u001b[0;34m,\u001b[0m \u001b[0mn\u001b[0m\u001b[0;34m=\u001b[0m\u001b[0;36m1\u001b[0m\u001b[0;34m)\u001b[0m\u001b[0;34m:\u001b[0m\u001b[0;34m\u001b[0m\u001b[0;34m\u001b[0m\u001b[0m\n\u001b[0;32m---> 36\u001b[0;31m         \u001b[0mresult\u001b[0m \u001b[0;34m=\u001b[0m \u001b[0mself\u001b[0m\u001b[0;34m.\u001b[0m\u001b[0mmodel\u001b[0m\u001b[0;34m.\u001b[0m\u001b[0mmost_similar\u001b[0m\u001b[0;34m(\u001b[0m\u001b[0mword\u001b[0m\u001b[0;34m,\u001b[0m \u001b[0mtopn\u001b[0m\u001b[0;34m=\u001b[0m\u001b[0mself\u001b[0m\u001b[0;34m.\u001b[0m\u001b[0mtop_k\u001b[0m\u001b[0;34m+\u001b[0m\u001b[0;36m1\u001b[0m\u001b[0;34m)\u001b[0m\u001b[0;34m\u001b[0m\u001b[0;34m\u001b[0m\u001b[0m\n\u001b[0m\u001b[1;32m     37\u001b[0m         \u001b[0mresult\u001b[0m \u001b[0;34m=\u001b[0m \u001b[0;34m[\u001b[0m\u001b[0mw\u001b[0m \u001b[0;32mfor\u001b[0m \u001b[0mw\u001b[0m\u001b[0;34m,\u001b[0m \u001b[0ms\u001b[0m \u001b[0;32min\u001b[0m \u001b[0mresult\u001b[0m \u001b[0;32mif\u001b[0m \u001b[0mw\u001b[0m\u001b[0;34m.\u001b[0m\u001b[0mlower\u001b[0m\u001b[0;34m(\u001b[0m\u001b[0;34m)\u001b[0m \u001b[0;34m!=\u001b[0m \u001b[0mword\u001b[0m\u001b[0;34m.\u001b[0m\u001b[0mlower\u001b[0m\u001b[0;34m(\u001b[0m\u001b[0;34m)\u001b[0m\u001b[0;34m]\u001b[0m\u001b[0;34m\u001b[0m\u001b[0;34m\u001b[0m\u001b[0m\n\u001b[1;32m     38\u001b[0m         \u001b[0;32mreturn\u001b[0m \u001b[0mresult\u001b[0m\u001b[0;34m[\u001b[0m\u001b[0;34m:\u001b[0m\u001b[0mself\u001b[0m\u001b[0;34m.\u001b[0m\u001b[0mtop_k\u001b[0m\u001b[0;34m]\u001b[0m\u001b[0;34m\u001b[0m\u001b[0;34m\u001b[0m\u001b[0m\n",
            "\u001b[0;32m/usr/local/lib/python3.7/dist-packages/gensim/models/keyedvectors.py\u001b[0m in \u001b[0;36mmost_similar\u001b[0;34m(self, positive, negative, topn, clip_start, clip_end, restrict_vocab, indexer)\u001b[0m\n\u001b[1;32m    781\u001b[0m             \u001b[0;32mreturn\u001b[0m \u001b[0mindexer\u001b[0m\u001b[0;34m.\u001b[0m\u001b[0mmost_similar\u001b[0m\u001b[0;34m(\u001b[0m\u001b[0mmean\u001b[0m\u001b[0;34m,\u001b[0m \u001b[0mtopn\u001b[0m\u001b[0;34m)\u001b[0m\u001b[0;34m\u001b[0m\u001b[0;34m\u001b[0m\u001b[0m\n\u001b[1;32m    782\u001b[0m \u001b[0;34m\u001b[0m\u001b[0m\n\u001b[0;32m--> 783\u001b[0;31m         \u001b[0mdists\u001b[0m \u001b[0;34m=\u001b[0m \u001b[0mdot\u001b[0m\u001b[0;34m(\u001b[0m\u001b[0mself\u001b[0m\u001b[0;34m.\u001b[0m\u001b[0mvectors\u001b[0m\u001b[0;34m[\u001b[0m\u001b[0mclip_start\u001b[0m\u001b[0;34m:\u001b[0m\u001b[0mclip_end\u001b[0m\u001b[0;34m]\u001b[0m\u001b[0;34m,\u001b[0m \u001b[0mmean\u001b[0m\u001b[0;34m)\u001b[0m \u001b[0;34m/\u001b[0m \u001b[0mself\u001b[0m\u001b[0;34m.\u001b[0m\u001b[0mnorms\u001b[0m\u001b[0;34m[\u001b[0m\u001b[0mclip_start\u001b[0m\u001b[0;34m:\u001b[0m\u001b[0mclip_end\u001b[0m\u001b[0;34m]\u001b[0m\u001b[0;34m\u001b[0m\u001b[0;34m\u001b[0m\u001b[0m\n\u001b[0m\u001b[1;32m    784\u001b[0m         \u001b[0;32mif\u001b[0m \u001b[0;32mnot\u001b[0m \u001b[0mtopn\u001b[0m\u001b[0;34m:\u001b[0m\u001b[0;34m\u001b[0m\u001b[0;34m\u001b[0m\u001b[0m\n\u001b[1;32m    785\u001b[0m             \u001b[0;32mreturn\u001b[0m \u001b[0mdists\u001b[0m\u001b[0;34m\u001b[0m\u001b[0;34m\u001b[0m\u001b[0m\n",
            "\u001b[0;32m<__array_function__ internals>\u001b[0m in \u001b[0;36mdot\u001b[0;34m(*args, **kwargs)\u001b[0m\n",
            "\u001b[0;31mKeyboardInterrupt\u001b[0m: "
          ]
        }
      ]
    },
    {
      "cell_type": "code",
      "source": [
        "dataset = pd.read_csv('Copy of actual_aug_train_new.csv')\n",
        "dataset[\"Label\"].value_counts()"
      ],
      "metadata": {
        "colab": {
          "base_uri": "https://localhost:8080/"
        },
        "id": "qBUTq35iX6oY",
        "outputId": "ef597fd4-bbbf-4c88-8c01-11e40291d1f9"
      },
      "execution_count": null,
      "outputs": [
        {
          "output_type": "execute_result",
          "data": {
            "text/plain": [
              "neg    170000\n",
              "pos    115629\n",
              "Name: Label, dtype: int64"
            ]
          },
          "metadata": {},
          "execution_count": 26
        }
      ]
    },
    {
      "cell_type": "code",
      "source": [
        "dataset = pd.read_csv('aug_train_new.csv')\n",
        "dataset[\"Label\"].value_counts()"
      ],
      "metadata": {
        "colab": {
          "base_uri": "https://localhost:8080/"
        },
        "id": "jNE16GEnYNoE",
        "outputId": "33dc7efa-ed33-45a2-984c-47d907f6ddc2"
      },
      "execution_count": null,
      "outputs": [
        {
          "output_type": "execute_result",
          "data": {
            "text/plain": [
              "neg    170000\n",
              "pos    123656\n",
              "Name: Label, dtype: int64"
            ]
          },
          "metadata": {},
          "execution_count": 15
        }
      ]
    },
    {
      "cell_type": "code",
      "source": [],
      "metadata": {
        "id": "uOuyDeG6oYSa"
      },
      "execution_count": null,
      "outputs": []
    }
  ],
  "metadata": {
    "colab": {
      "provenance": []
    },
    "kernelspec": {
      "display_name": "Python 3",
      "name": "python3"
    },
    "language_info": {
      "name": "python"
    }
  },
  "nbformat": 4,
  "nbformat_minor": 0
}